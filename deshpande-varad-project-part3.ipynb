{
 "cells": [
  {
   "cell_type": "markdown",
   "metadata": {},
   "source": [
    "# **Customer Profiling using E-commerce data**"
   ]
  },
  {
   "cell_type": "markdown",
   "metadata": {},
   "source": [
    "## **Author - Varad Deshpande**"
   ]
  },
  {
   "cell_type": "markdown",
   "metadata": {},
   "source": [
    "E-commmerce is one of the booming industry in the world. Before E-commerce, companies used to understand the customer buying patterns and their purchasing power by observing how they are buying products in store. But as the world of consumers have shifted online, it is very important to understand how the consumers are behaving in the online market. There is a greate scope of profiling consumers based on their purchasing patterns, locations, income and the amount of money they want to spend on E-Commerce product. With this we can also get the curve in consumer buying certian products online while other products offline. Let us dive deep into understanding one such E-Commerce market."
   ]
  },
  {
   "cell_type": "markdown",
   "metadata": {},
   "source": [
    "The dataset contains Brazil's E-Commerce data and it has been obtained from kaggle. This is the primary dataset\n",
    "https://www.kaggle.com/olistbr/brazilian-ecommerce"
   ]
  },
  {
   "cell_type": "markdown",
   "metadata": {},
   "source": [
    "The secondary dataset is: https://www.kaggle.com/carrie1/ecommerce-data\n",
    "This contains E-commerce data of Europe, and very short data of North america and South America"
   ]
  },
  {
   "cell_type": "code",
   "execution_count": 24,
   "metadata": {},
   "outputs": [],
   "source": [
    "#Importing the packages\n",
    "import matplotlib.pyplot as plt\n",
    "import pandas as pd\n",
    "import bqplot\n",
    "import numpy as np\n",
    "import traitlets\n",
    "import ipywidgets\n",
    "import matplotlib.pyplot as plt\n",
    "%matplotlib inline"
   ]
  },
  {
   "cell_type": "code",
   "execution_count": 25,
   "metadata": {},
   "outputs": [],
   "source": [
    "#importing data\n",
    "cd = pd.read_csv('https://raw.githubusercontent.com/Varadad/Personalize_Pricing/main/Datasets/customer_data.csv')\n",
    "ocd = pd.read_csv('https://raw.githubusercontent.com/Varadad/Personalize_Pricing/main/Datasets/order_customer_data.csv') #most important file\n",
    "oid = pd.read_csv('https://raw.githubusercontent.com/Varadad/Personalize_Pricing/main/Datasets/order_item_data.csv')\n",
    "opd = pd.read_csv('https://raw.githubusercontent.com/Varadad/Personalize_Pricing/main/Datasets/order_payment_data.csv')\n",
    "pdd = pd.read_csv('https://raw.githubusercontent.com/Varadad/Personalize_Pricing/main/Datasets/product_data.csv')\n",
    "pnd = pd.read_csv('https://raw.githubusercontent.com/Varadad/Personalize_Pricing/main/Datasets/product_name_data.csv')"
   ]
  },
  {
   "cell_type": "code",
   "execution_count": 26,
   "metadata": {},
   "outputs": [],
   "source": [
    "cd_oid = cd.join(oid,how = 'left')\n",
    "cd_oid_opd = cd_oid.merge(opd, on = 'order_id', how = 'left')\n",
    "cd_oid_opd_pdd = cd_oid_opd.merge(pdd, on = 'product_id', how = 'left')\n",
    "cd_oid_opd_pdd_pnd = cd_oid_opd_pdd.merge(pnd, on = 'product_category_name', how ='left')"
   ]
  },
  {
   "cell_type": "code",
   "execution_count": 27,
   "metadata": {},
   "outputs": [],
   "source": [
    "df = cd_oid_opd_pdd_pnd[['customer_id', 'customer_unique_id','order_id', 'seller_id','product_id','product_category_name_english', 'customer_city', 'customer_state', 'price', 'freight_value','payment_value','product_weight_g', 'product_length_cm','product_height_cm','product_width_cm']]\n",
    "df = df.dropna()"
   ]
  },
  {
   "cell_type": "code",
   "execution_count": 28,
   "metadata": {},
   "outputs": [],
   "source": [
    "state = df.groupby('customer_state').size().reset_index()"
   ]
  },
  {
   "cell_type": "code",
   "execution_count": 29,
   "metadata": {},
   "outputs": [],
   "source": [
    "product_category = df.groupby('product_category_name_english').size().reset_index()"
   ]
  },
  {
   "cell_type": "code",
   "execution_count": 30,
   "metadata": {},
   "outputs": [],
   "source": [
    "# creating the list of useful values and attributes\n",
    "from tqdm import tqdm\n",
    "category_name = np.asarray(product_category['product_category_name_english'])\n",
    "state_name = np.asarray(state['customer_state'])\n",
    "plot_data = []\n",
    "for i in range(len(state_name)):\n",
    "    df1 = df.loc[df['customer_state'] == state_name[i]]\n",
    "\n",
    "    for j in range(len(category_name)):\n",
    "        sum1 = (df1.loc[df1['product_category_name_english'] == category_name[j], 'payment_value'].sum())\n",
    "        plot_data.append((state_name[i], category_name[j], sum1))   "
   ]
  },
  {
   "cell_type": "code",
   "execution_count": 31,
   "metadata": {},
   "outputs": [],
   "source": [
    "df2 = pd.DataFrame(plot_data, columns =['state_name', 'category_name', 'revenue'])"
   ]
  },
  {
   "cell_type": "code",
   "execution_count": 32,
   "metadata": {},
   "outputs": [],
   "source": [
    "#reshaping the array to make a grid of 27x71\n",
    "array2d = np.asarray(df2['revenue']).reshape(27,71)"
   ]
  },
  {
   "cell_type": "code",
   "execution_count": 33,
   "metadata": {},
   "outputs": [],
   "source": [
    "#finding the unique values for  both the axes\n",
    "uniq_state = df2['state_name'].unique()\n",
    "uniq_category = df2['category_name'].unique()"
   ]
  },
  {
   "cell_type": "markdown",
   "metadata": {},
   "source": [
    "### **Creating Heatmap of revenue of product category in given state**"
   ]
  },
  {
   "cell_type": "code",
   "execution_count": 34,
   "metadata": {},
   "outputs": [],
   "source": [
    "mySelectedLabel = ipywidgets.Label()"
   ]
  },
  {
   "cell_type": "code",
   "execution_count": 35,
   "metadata": {},
   "outputs": [
    {
     "data": {
      "application/vnd.jupyter.widget-view+json": {
       "model_id": "f20ff275bc5246ff83f4cbe620771e28",
       "version_major": 2,
       "version_minor": 0
      },
      "text/plain": [
       "VBox(children=(Label(value=''), Figure(axes=[ColorAxis(orientation='vertical', scale=ColorScale(), side='right…"
      ]
     },
     "metadata": {},
     "output_type": "display_data"
    }
   ],
   "source": [
    "import bqplot\n",
    "from bqplot import pyplot\n",
    "# 2. scales - linear scales\n",
    "x_sc = bqplot.OrdinalScale()\n",
    "y_sc = bqplot.OrdinalScale()\n",
    "c_sc = bqplot.ColorScale()\n",
    "\n",
    "# 3. axis\n",
    "ax_x = bqplot.Axis(scale = x_sc, label='category_name')\n",
    "ax_y = bqplot.Axis(scale = y_sc, orientation='vertical', label='state_name')\n",
    "ax_col = bqplot.ColorAxis(scale = c_sc, orientation='vertical', side='right') \n",
    "# 4. Marks\n",
    "heat_map = bqplot.GridHeatMap(color = array2d, \n",
    "                              row = uniq_state, \n",
    "                              column = uniq_category, \n",
    "                              scales = {'color':c_sc, 'row':y_sc, 'column':x_sc},\n",
    "                             interactions={'click':'select'},\n",
    "                             anchor_style={'fill':'blue'},\n",
    "                             title = 'Revenue Generated Per Category from Each State')\n",
    "#                              selected_style={'opacity':1.0},\n",
    "#                              unselected_style={'opacity':0.8})\n",
    "\n",
    "#5. interactivity\n",
    "mySelectedLabel = ipywidgets.Label()\n",
    "def on_selected(change): # already modified for our 3d data\n",
    "    if len(change['owner'].selected) == 1:\n",
    "        i, j = change['owner'].selected[0]\n",
    "        v = array2d[i,j] # this is a 2d array!!\n",
    "        mySelectedLabel.value = 'Total Revenue from product category: '+ uniq_category[i] +' is '+ '$'+str(round(v, 4)) + '\\n' +' in state: ' + uniq_state[i]\n",
    "\n",
    "        \n",
    "# make sure we are observing for changes in our heatmap\n",
    "heat_map.observe(on_selected, 'selected')\n",
    "        \n",
    "# figure!\n",
    "fig = bqplot.Figure(marks=[heat_map], axes=[ax_col, ax_y, ax_x])\n",
    "#fig\n",
    "\n",
    "# dashboard with my label\n",
    "myDashboard = ipywidgets.VBox([mySelectedLabel, fig])\n",
    "myDashboard"
   ]
  },
  {
   "cell_type": "markdown",
   "metadata": {},
   "source": [
    "The very first thing to understand about online purchase is understanding how much money people are putting in buying different products. In Brazil dataset, it can be seen that every state has different per capita income and people spend different amount of money and also on different categories. On this heatmap you can click on any brick to know in a given state for a given product how many dollars are spent. The bricks/tiles are also showing the colors as per the magnitude of amount spent. You can select the highest revenue generating tile directly by looking at the heatmap."
   ]
  },
  {
   "cell_type": "markdown",
   "metadata": {},
   "source": [
    "### **Other Dashboard Plots**"
   ]
  },
  {
   "cell_type": "markdown",
   "metadata": {},
   "source": [
    "#### **Bar plot to show total revenue generated in a given state**"
   ]
  },
  {
   "cell_type": "code",
   "execution_count": 36,
   "metadata": {},
   "outputs": [],
   "source": [
    "bar_data = df.groupby('customer_state').sum().reset_index()"
   ]
  },
  {
   "cell_type": "code",
   "execution_count": 37,
   "metadata": {},
   "outputs": [],
   "source": [
    "states  = bar_data['customer_state'].unique()\n",
    "revenue = np.asarray(bar_data['payment_value'])"
   ]
  },
  {
   "cell_type": "code",
   "execution_count": 38,
   "metadata": {},
   "outputs": [
    {
     "data": {
      "text/plain": [
       "<BarContainer object of 27 artists>"
      ]
     },
     "execution_count": 38,
     "metadata": {},
     "output_type": "execute_result"
    },
    {
     "data": {
      "image/png": "[encoded data removed]",
      "text/plain": [
       "<Figure size 432x288 with 1 Axes>"
      ]
     },
     "metadata": {
      "needs_background": "light"
     },
     "output_type": "display_data"
    }
   ],
   "source": [
    "plt.bar(states, revenue)"
   ]
  },
  {
   "cell_type": "markdown",
   "metadata": {},
   "source": [
    "This plot shows the amount of money spent by consumers from each state. This helps us understand how consumers from different state can spend differently as per their needs. States with larger cities have morerevenues as compared to small states with less number of cities."
   ]
  },
  {
   "cell_type": "markdown",
   "metadata": {},
   "source": [
    "#### **Scatter plot to show number of customers buying given product**"
   ]
  },
  {
   "cell_type": "code",
   "execution_count": 39,
   "metadata": {},
   "outputs": [],
   "source": [
    "scc_data = df.groupby('product_category_name_english').count().reset_index()"
   ]
  },
  {
   "cell_type": "code",
   "execution_count": 40,
   "metadata": {},
   "outputs": [],
   "source": [
    "product_category = scc_data['product_category_name_english']\n",
    "number_customer = scc_data['customer_unique_id']\n",
    "len(product_category), len(number_customer)\n",
    "fig3_array = np.asarray(number_customer)"
   ]
  },
  {
   "cell_type": "code",
   "execution_count": 41,
   "metadata": {},
   "outputs": [
    {
     "data": {
      "text/plain": [
       "<matplotlib.collections.PathCollection at 0x28cc9f51b88>"
      ]
     },
     "execution_count": 41,
     "metadata": {},
     "output_type": "execute_result"
    },
    {
     "data": {
      "image/png": "[encoded data removed]",
      "text/plain": [
       "<Figure size 432x288 with 1 Axes>"
      ]
     },
     "metadata": {
      "needs_background": "light"
     },
     "output_type": "display_data"
    }
   ],
   "source": [
    "plt.scatter(product_category, number_customer)"
   ]
  },
  {
   "cell_type": "markdown",
   "metadata": {},
   "source": [
    "Another important factor we can extract from E-Commerce data is the popularity if a given product category. Consumers tend to buy some specific categories of products from online market. The scatter plot shows the number of customers who bought their product."
   ]
  },
  {
   "cell_type": "markdown",
   "metadata": {},
   "source": [
    "#### **Line plot to show shipping cost for a given state**"
   ]
  },
  {
   "cell_type": "code",
   "execution_count": 42,
   "metadata": {},
   "outputs": [],
   "source": [
    "line_data = df.groupby('customer_state').mean().reset_index()"
   ]
  },
  {
   "cell_type": "code",
   "execution_count": 43,
   "metadata": {},
   "outputs": [],
   "source": [
    "state_cust = line_data['customer_state']\n",
    "fri_value = line_data['freight_value']\n",
    "fig4_array = np.asarray(fri_value)"
   ]
  },
  {
   "cell_type": "code",
   "execution_count": 44,
   "metadata": {},
   "outputs": [
    {
     "data": {
      "text/plain": [
       "[<matplotlib.lines.Line2D at 0x28cc6309a88>]"
      ]
     },
     "execution_count": 44,
     "metadata": {},
     "output_type": "execute_result"
    },
    {
     "data": {
      "image/png": "[encoded data removed]",
      "text/plain": [
       "<Figure size 432x288 with 1 Axes>"
      ]
     },
     "metadata": {
      "needs_background": "light"
     },
     "output_type": "display_data"
    }
   ],
   "source": [
    "plt.plot(state_cust, fri_value)"
   ]
  },
  {
   "cell_type": "markdown",
   "metadata": {},
   "source": [
    "Patterns in data have shown that people from different state reacts differently for the shipping costs of the products. For online products it has been seen that the warehouses of these E-Commerce companies are concentrated on one of the states in a given region and the shipping cost is decided by how far the given customer location is from the warehouse. This plot shows us how shipping cost changes for different states in Brazil."
   ]
  },
  {
   "cell_type": "markdown",
   "metadata": {},
   "source": [
    "## **Final Dashboard**"
   ]
  },
  {
   "cell_type": "code",
   "execution_count": 45,
   "metadata": {},
   "outputs": [],
   "source": [
    "mySelectedLabel = ipywidgets.Label()\n",
    "def on_selected(change): # already modified for our 3d data\n",
    "    if len(change['owner'].selected) == 1:\n",
    "        i, j = change['owner'].selected[0]\n",
    "        v = array2d[i,j] # this is a 2d array!!\n",
    "        v2 = fig3_array[j]\n",
    "        v3 = fig4_array[i]\n",
    "        mySelectedLabel.value = 'For State: '+  uniq_state[i] + ' and Product Category: ' + uniq_category[j]  + ' Revenue is: ' + str(round(v, 4)) + ' Number of Customers are: ' + str(v2) + ' and Average Shipping cost for this state is: ' + str(round(v3, 4))\n",
    "        linep1.y = revenue[i:j] #fig2\n",
    "        linep2.y = number_customer[i:j]\n",
    "        linep3.y = fri_value[i:j]"
   ]
  },
  {
   "cell_type": "code",
   "execution_count": 46,
   "metadata": {},
   "outputs": [],
   "source": [
    "from bqplot import pyplot\n",
    "# 2. scales - linear scales\n",
    "x_sc = bqplot.OrdinalScale()\n",
    "y_sc = bqplot.OrdinalScale()\n",
    "c_sc = bqplot.ColorScale()\n",
    "\n",
    "# 3. axis\n",
    "ax_x = bqplot.Axis(scale = x_sc, label='category_name')\n",
    "ax_y = bqplot.Axis(scale = y_sc, orientation='vertical', label='state_name')\n",
    "ax_col = bqplot.ColorAxis(scale = c_sc, orientation='vertical', side='right') \n",
    "# 4. Marks\n",
    "heat_map = bqplot.GridHeatMap(color = array2d, \n",
    "                              row = uniq_state, \n",
    "                              column = uniq_category, \n",
    "                              scales = {'color':c_sc, 'row':y_sc, 'column':x_sc},\n",
    "                             interactions={'click':'select'},\n",
    "                             anchor_style={'fill':'blue'})\n",
    "# make sure we are observing for changes in our heatmap\n",
    "heat_map.observe(on_selected, 'selected')\n",
    "fig1 = bqplot.Figure(marks=[heat_map], axes=[ax_col, ax_y, ax_x])"
   ]
  },
  {
   "cell_type": "code",
   "execution_count": 47,
   "metadata": {},
   "outputs": [
    {
     "data": {
      "application/vnd.jupyter.widget-view+json": {
       "model_id": "fb59573ac5f04ab58c1bdbb5e0fb21bb",
       "version_major": 2,
       "version_minor": 0
      },
      "text/plain": [
       "Figure(axes=[Axis(label='State', scale=OrdinalScale()), Axis(label='Amount in USD', orientation='vertical', sc…"
      ]
     },
     "metadata": {},
     "output_type": "display_data"
    }
   ],
   "source": [
    "#Line Plot\n",
    "fig2 = bqplot.pyplot.figure(title='Revenue generated by Each State', background_style={'fill': 'lightgreen'},\n",
    "                 title_style={'font-size': '20px','fill': 'DarkOrange'})\n",
    "x_sc = bqplot.OrdinalScale()\n",
    "y_sc = bqplot.LinearScale()\n",
    "axes_options = {'x': {'label': 'State'},\n",
    "                'y': {'label': 'Amount in USD', 'tick_format': '0.0f'}}\n",
    "linep1 = bqplot.pyplot.bar(x = np.asarray(bar_data['customer_state']), y = revenue, axes_options=axes_options, scales = {'x': x_sc, 'y': y_sc})\n",
    "fig2 "
   ]
  },
  {
   "cell_type": "code",
   "execution_count": 48,
   "metadata": {},
   "outputs": [
    {
     "data": {
      "application/vnd.jupyter.widget-view+json": {
       "model_id": "63c4ab50ae004729a918a80c3e260c4d",
       "version_major": 2,
       "version_minor": 0
      },
      "text/plain": [
       "Figure(axes=[Axis(label='Product Cateory', scale=OrdinalScale()), Axis(label='Number of Customers', orientatio…"
      ]
     },
     "metadata": {},
     "output_type": "display_data"
    }
   ],
   "source": [
    "#Line Plot\n",
    "fig3 = bqplot.pyplot.figure(title='Number of Customers buying from a given product category', background_style={'fill': 'lightblue'},\n",
    "                 title_style={'font-size': '20px','fill': 'DarkOrange'})\n",
    "x_sc = bqplot.OrdinalScale()\n",
    "y_sc = bqplot.LinearScale()\n",
    "axes_options = {'x': {'label': 'Product Cateory'},\n",
    "                'y': {'label': 'Number of Customers', 'tick_format': '0.0f'}}\n",
    "linep2 = bqplot.pyplot.scatter(x = np.asarray(scc_data['product_category_name_english']), y = number_customer, axes_options=axes_options, scales = {'x': x_sc, 'y': y_sc})\n",
    "fig3"
   ]
  },
  {
   "cell_type": "code",
   "execution_count": 49,
   "metadata": {},
   "outputs": [
    {
     "data": {
      "application/vnd.jupyter.widget-view+json": {
       "model_id": "518fc472f73c4c6a8f5f4cd6cef97902",
       "version_major": 2,
       "version_minor": 0
      },
      "text/plain": [
       "Figure(axes=[Axis(label='State', scale=OrdinalScale()), Axis(label='Shipping Cost', orientation='vertical', sc…"
      ]
     },
     "metadata": {},
     "output_type": "display_data"
    }
   ],
   "source": [
    "fig4 = bqplot.pyplot.figure(title='Shipping Cost Paid in Different States', background_style={'fill': 'lightgrey'},\n",
    "                 title_style={'font-size': '20px','fill': 'DarkOrange'})\n",
    "x_sc = bqplot.OrdinalScale()\n",
    "y_sc = bqplot.LinearScale()\n",
    "axes_options = {'x': {'label': 'State'},\n",
    "                'y': {'label': 'Shipping Cost', 'tick_format': '0.0f'}}\n",
    "linep3 = bqplot.pyplot.plot(x = np.asarray(line_data['customer_state']), y = fri_value, axes_options=axes_options, scales = {'x': x_sc, 'y': y_sc})\n",
    "fig4"
   ]
  },
  {
   "cell_type": "code",
   "execution_count": 50,
   "metadata": {},
   "outputs": [
    {
     "data": {
      "application/vnd.jupyter.widget-view+json": {
       "model_id": "eba213e381f34c359ad972e833434c9e",
       "version_major": 2,
       "version_minor": 0
      },
      "text/plain": [
       "VBox(children=(Label(value=''), HBox(children=(Figure(axes=[ColorAxis(orientation='vertical', scale=ColorScale…"
      ]
     },
     "metadata": {},
     "output_type": "display_data"
    }
   ],
   "source": [
    "fig1.layout.min_width='500px'\n",
    "fig2.layout.min_width='500px'\n",
    "fig3.layout.min_width='500px'\n",
    "fig4.layout.min_width='500px'\n",
    "\n",
    "figures = ipywidgets.HBox([fig1, fig2]) # figures side-by-side\n",
    "figuresv = ipywidgets.HBox([fig3, fig4])\n",
    "\n",
    "# label on top\n",
    "myDashboard = ipywidgets.VBox([mySelectedLabel, figures, figuresv])\n",
    "myDashboard"
   ]
  },
  {
   "cell_type": "markdown",
   "metadata": {},
   "source": [
    "Dashboard above is showing the effect of above four plots on each other. The Dashboard as shown takes input from the heatmap. The heatmap input can be taken by clicking on any one tile and it shows us the revenue for that state and product category. But as we select the state and product category other plots in the dashboard changes according to this input. The plot on the top right shows us the effect on total revenue on that state. the bottom left plot shows the change in number of customers buying the given selected product category. Finally, the bottom right plot changes as per the shipping cost in that state. This complete dashboard gives a great overview of how the consumers are behaving in the E-Commerce market and how their preferences change depending on the product category and location."
   ]
  },
  {
   "cell_type": "markdown",
   "metadata": {},
   "source": [
    "## **Contextual Visualization**"
   ]
  },
  {
   "cell_type": "code",
   "execution_count": null,
   "metadata": {},
   "outputs": [],
   "source": [
    "# #importing data\n",
    "df1 = pd.read_csv('https://raw.githubusercontent.com/Varadad/Varadad.github.io/master/data/data1.csv', encoding = 'unicode_escape')\n",
    "df2 = pd.read_csv('https://raw.githubusercontent.com/Varadad/Varadad.github.io/master/data/data2.csv', encoding = 'unicode_escape')"
   ]
  },
  {
   "cell_type": "code",
   "execution_count": null,
   "metadata": {},
   "outputs": [],
   "source": [
    "df_new = df1.join(df2, how = 'left')"
   ]
  },
  {
   "cell_type": "code",
   "execution_count": null,
   "metadata": {},
   "outputs": [],
   "source": [
    "# multiplying to find actual revenue\n",
    "df_new['actual_cost_paid'] = df_new['Quantity']*df_new['UnitPrice']"
   ]
  },
  {
   "cell_type": "markdown",
   "metadata": {},
   "source": [
    "#### **Scatter plot for Amount spent by consumers in online shopping**"
   ]
  },
  {
   "cell_type": "code",
   "execution_count": null,
   "metadata": {},
   "outputs": [],
   "source": [
    "customer = df_new.groupby('CustomerID').sum().reset_index()"
   ]
  },
  {
   "cell_type": "code",
   "execution_count": null,
   "metadata": {},
   "outputs": [],
   "source": [
    "fig = plt.figure(figsize = (20,25))\n",
    "x1 = customer['CustomerID']\n",
    "y1 = customer['actual_cost_paid']\n",
    "plt.xlabel(\"Customers\")\n",
    "plt.ylabel(\"Amount Spent\")\n",
    "plt.title(\"Amount Spent by customers on online shopping\")\n",
    "scatter_plot = plt.scatter(x1, y1)\n",
    "plt.show()"
   ]
  },
  {
   "cell_type": "markdown",
   "metadata": {},
   "source": [
    "#### **Bar plot to show average quantity of purchase made in different countries**"
   ]
  },
  {
   "cell_type": "code",
   "execution_count": null,
   "metadata": {},
   "outputs": [],
   "source": [
    "quantity = df_new.groupby('Country').mean().reset_index()"
   ]
  },
  {
   "cell_type": "code",
   "execution_count": null,
   "metadata": {},
   "outputs": [],
   "source": [
    "fig = plt.figure(figsize = (30,15))\n",
    "x1 = quantity['Country']\n",
    "y1 = quantity['Quantity']\n",
    "plt.xlabel(\"Countries\")\n",
    "plt.ylabel(\"Average Quantity\")\n",
    "plt.title(\"Average quantity of online products in different countries\")\n",
    "plt.xticks(rotation=45)\n",
    "scatter_plot = plt.bar(x1, y1)\n",
    "plt.savefig('avg_quantity_countries.png')\n",
    "plt.show()"
   ]
  },
  {
   "cell_type": "markdown",
   "metadata": {},
   "source": [
    "Unlike the traditional markets for buying consumer goods, it can be seen that people around the globe with good E-Commerce alternative are following similar trends as we used to see in the traditional markets. The alternative dataset of E-Commerce purchases form different countries reveals some great similarities with the Brazil's data. It can be seen that most of the customers spent only a limited amount of money on E-Commerce and there are very few customers, who tend to buy super expensive products form the E-Commerce market. This is the same pattern as of the bottom left plot of the dashboard. Consumers tend to buy similar products and from some specific product categories in online market. The second plot is a great interpretation of different countries' consumers buying pattern. It shows the average number of products consumer buys every time consumer shops online. There are some start revelations and it shows the importance of demographics and income of consumers. The field of Consumer profiling is a hot topic in the world of Data Analytic and E-Commerce companies are gaining great markets by understanding the needs of people based on regional demographics and per capita income."
   ]
  },
  {
   "cell_type": "markdown",
   "metadata": {},
   "source": [
    "### **References**"
   ]
  },
  {
   "cell_type": "raw",
   "metadata": {},
   "source": [
    "Primary Data - Brazil E-Commerce: https://www.kaggle.com/olistbr/brazilian-ecommerce\n",
    "Secondary Data - Europe,America E-Commerce: https://www.kaggle.com/carrie1/ecommerce-data\n",
    "bqplot: https://bqplot.readthedocs.io/en/latest/"
   ]
  },
  {
   "cell_type": "code",
   "execution_count": null,
   "metadata": {},
   "outputs": [],
   "source": []
  }
 ],
 "metadata": {
  "kernelspec": {
   "display_name": "Python 3",
   "language": "python",
   "name": "python3"
  },
  "language_info": {
   "codemirror_mode": {
    "name": "ipython",
    "version": 3
   },
   "file_extension": ".py",
   "mimetype": "text/x-python",
   "name": "python",
   "nbconvert_exporter": "python",
   "pygments_lexer": "ipython3",
   "version": "3.7.4"
  }
 },
 "nbformat": 4,
 "nbformat_minor": 2
}
