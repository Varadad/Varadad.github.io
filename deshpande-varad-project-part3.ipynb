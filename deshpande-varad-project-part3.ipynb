{
 "cells": [
  {
   "cell_type": "markdown",
   "metadata": {},
   "source": [
    "# **Customer Profiling using E-commerce data**"
   ]
  },
  {
   "cell_type": "markdown",
   "metadata": {},
   "source": [
    "## **Author - Varad Deshpande**"
   ]
  },
  {
   "cell_type": "markdown",
   "metadata": {},
   "source": [
    "E-commmerce is one of the booming industry in the world. Before E-commerce, companies used to understand the customer buying patterns and their purchasing power by observing how they are buying products in store. But as the world of consumers have shifted online, it is very important to understand how the consumers are behaving in the online market. There is a greate scope of profiling consumers based on their purchasing patterns, locations, income and the amount of money they want to spend on E-Commerce product. With this we can also get the curve in consumer buying certian products online while other products offline. Let us dive deep into understanding one such E-Commerce market."
   ]
  },
  {
   "cell_type": "markdown",
   "metadata": {},
   "source": [
    "The dataset contains Brazil's E-Commerce data and it has been obtained from kaggle. This is the primary dataset\n",
    "https://www.kaggle.com/olistbr/brazilian-ecommerce"
   ]
  },
  {
   "cell_type": "markdown",
   "metadata": {},
   "source": [
    "The secondary dataset is: https://www.kaggle.com/carrie1/ecommerce-data\n",
    "This contains E-commerce data of Europe, and very short data of North america and South America"
   ]
  },
  {
   "cell_type": "code",
   "execution_count": 86,
   "metadata": {},
   "outputs": [],
   "source": [
    "#Importing the packages\n",
    "import matplotlib.pyplot as plt\n",
    "import pandas as pd\n",
    "import bqplot\n",
    "import numpy as np\n",
    "import traitlets\n",
    "import ipywidgets\n",
    "import matplotlib.pyplot as plt\n",
    "%matplotlib inline"
   ]
  },
  {
   "cell_type": "code",
   "execution_count": 2,
   "metadata": {},
   "outputs": [],
   "source": [
    "#importing data\n",
    "cd = pd.read_csv('https://raw.githubusercontent.com/Varadad/Personalize_Pricing/main/Datasets/customer_data.csv')\n",
    "ocd = pd.read_csv('https://raw.githubusercontent.com/Varadad/Personalize_Pricing/main/Datasets/order_customer_data.csv') #most important file\n",
    "oid = pd.read_csv('https://raw.githubusercontent.com/Varadad/Personalize_Pricing/main/Datasets/order_item_data.csv')\n",
    "opd = pd.read_csv('https://raw.githubusercontent.com/Varadad/Personalize_Pricing/main/Datasets/order_payment_data.csv')\n",
    "pdd = pd.read_csv('https://raw.githubusercontent.com/Varadad/Personalize_Pricing/main/Datasets/product_data.csv')\n",
    "pnd = pd.read_csv('https://raw.githubusercontent.com/Varadad/Personalize_Pricing/main/Datasets/product_name_data.csv')"
   ]
  },
  {
   "cell_type": "code",
   "execution_count": 3,
   "metadata": {},
   "outputs": [],
   "source": [
    "cd_oid = cd.join(oid,how = 'left')\n",
    "cd_oid_opd = cd_oid.merge(opd, on = 'order_id', how = 'left')\n",
    "cd_oid_opd_pdd = cd_oid_opd.merge(pdd, on = 'product_id', how = 'left')\n",
    "cd_oid_opd_pdd_pnd = cd_oid_opd_pdd.merge(pnd, on = 'product_category_name', how ='left')"
   ]
  },
  {
   "cell_type": "code",
   "execution_count": 4,
   "metadata": {},
   "outputs": [
    {
     "data": {
      "text/html": [
       "<div>\n",
       "<style scoped>\n",
       "    .dataframe tbody tr th:only-of-type {\n",
       "        vertical-align: middle;\n",
       "    }\n",
       "\n",
       "    .dataframe tbody tr th {\n",
       "        vertical-align: top;\n",
       "    }\n",
       "\n",
       "    .dataframe thead th {\n",
       "        text-align: right;\n",
       "    }\n",
       "</style>\n",
       "<table border=\"1\" class=\"dataframe\">\n",
       "  <thead>\n",
       "    <tr style=\"text-align: right;\">\n",
       "      <th></th>\n",
       "      <th>customer_id</th>\n",
       "      <th>customer_unique_id</th>\n",
       "      <th>order_id</th>\n",
       "      <th>seller_id</th>\n",
       "      <th>product_id</th>\n",
       "      <th>product_category_name_english</th>\n",
       "      <th>customer_city</th>\n",
       "      <th>customer_state</th>\n",
       "      <th>price</th>\n",
       "      <th>freight_value</th>\n",
       "      <th>payment_value</th>\n",
       "      <th>product_weight_g</th>\n",
       "      <th>product_length_cm</th>\n",
       "      <th>product_height_cm</th>\n",
       "      <th>product_width_cm</th>\n",
       "    </tr>\n",
       "  </thead>\n",
       "  <tbody>\n",
       "    <tr>\n",
       "      <td>0</td>\n",
       "      <td>06b8999e2fba1a1fbc88172c00ba8bc7</td>\n",
       "      <td>861eff4711a542e4b93843c6dd7febb0</td>\n",
       "      <td>00010242fe8c5a6d1ba2dd792cb16214</td>\n",
       "      <td>48436dade18ac8b2bce089ec2a041202</td>\n",
       "      <td>4244733e06e7ecb4970a6e2683c13e61</td>\n",
       "      <td>cool_stuff</td>\n",
       "      <td>franca</td>\n",
       "      <td>SP</td>\n",
       "      <td>58.90</td>\n",
       "      <td>13.29</td>\n",
       "      <td>72.19</td>\n",
       "      <td>650.0</td>\n",
       "      <td>28.0</td>\n",
       "      <td>9.0</td>\n",
       "      <td>14.0</td>\n",
       "    </tr>\n",
       "    <tr>\n",
       "      <td>1</td>\n",
       "      <td>18955e83d337fd6b2def6b18a428ac77</td>\n",
       "      <td>290c77bc529b7ac935b93aa66c333dc3</td>\n",
       "      <td>00018f77f2f0320c557190d7a144bdd3</td>\n",
       "      <td>dd7ddc04e1b6c2c614352b383efe2d36</td>\n",
       "      <td>e5f2d52b802189ee658865ca93d83a8f</td>\n",
       "      <td>pet_shop</td>\n",
       "      <td>sao bernardo do campo</td>\n",
       "      <td>SP</td>\n",
       "      <td>239.90</td>\n",
       "      <td>19.93</td>\n",
       "      <td>259.83</td>\n",
       "      <td>30000.0</td>\n",
       "      <td>50.0</td>\n",
       "      <td>30.0</td>\n",
       "      <td>40.0</td>\n",
       "    </tr>\n",
       "    <tr>\n",
       "      <td>2</td>\n",
       "      <td>4e7b3e00288586ebd08712fdd0374a03</td>\n",
       "      <td>060e732b5b29e8181a18229c7b0b2b5e</td>\n",
       "      <td>000229ec398224ef6ca0657da4fc703e</td>\n",
       "      <td>5b51032eddd242adc84c38acab88f23d</td>\n",
       "      <td>c777355d18b72b67abbeef9df44fd0fd</td>\n",
       "      <td>furniture_decor</td>\n",
       "      <td>sao paulo</td>\n",
       "      <td>SP</td>\n",
       "      <td>199.00</td>\n",
       "      <td>17.87</td>\n",
       "      <td>216.87</td>\n",
       "      <td>3050.0</td>\n",
       "      <td>33.0</td>\n",
       "      <td>13.0</td>\n",
       "      <td>33.0</td>\n",
       "    </tr>\n",
       "    <tr>\n",
       "      <td>3</td>\n",
       "      <td>b2b6027bc5c5109e529d4dc6358b12c3</td>\n",
       "      <td>259dac757896d24d7702b9acbbff3f3c</td>\n",
       "      <td>00024acbcdf0a6daa1e931b038114c75</td>\n",
       "      <td>9d7a1d34a5052409006425275ba1c2b4</td>\n",
       "      <td>7634da152a4610f1595efa32f14722fc</td>\n",
       "      <td>perfumery</td>\n",
       "      <td>mogi das cruzes</td>\n",
       "      <td>SP</td>\n",
       "      <td>12.99</td>\n",
       "      <td>12.79</td>\n",
       "      <td>25.78</td>\n",
       "      <td>200.0</td>\n",
       "      <td>16.0</td>\n",
       "      <td>10.0</td>\n",
       "      <td>15.0</td>\n",
       "    </tr>\n",
       "    <tr>\n",
       "      <td>4</td>\n",
       "      <td>4f2d8ab171c80ec8364f7c12e35b23ad</td>\n",
       "      <td>345ecd01c38d18a9036ed96c73b8d066</td>\n",
       "      <td>00042b26cf59d7ce69dfabb4e55b4fd9</td>\n",
       "      <td>df560393f3a51e74553ab94004ba5c87</td>\n",
       "      <td>ac6c3623068f30de03045865e4e10089</td>\n",
       "      <td>garden_tools</td>\n",
       "      <td>campinas</td>\n",
       "      <td>SP</td>\n",
       "      <td>199.90</td>\n",
       "      <td>18.14</td>\n",
       "      <td>218.04</td>\n",
       "      <td>3750.0</td>\n",
       "      <td>35.0</td>\n",
       "      <td>40.0</td>\n",
       "      <td>30.0</td>\n",
       "    </tr>\n",
       "    <tr>\n",
       "      <td>...</td>\n",
       "      <td>...</td>\n",
       "      <td>...</td>\n",
       "      <td>...</td>\n",
       "      <td>...</td>\n",
       "      <td>...</td>\n",
       "      <td>...</td>\n",
       "      <td>...</td>\n",
       "      <td>...</td>\n",
       "      <td>...</td>\n",
       "      <td>...</td>\n",
       "      <td>...</td>\n",
       "      <td>...</td>\n",
       "      <td>...</td>\n",
       "      <td>...</td>\n",
       "      <td>...</td>\n",
       "    </tr>\n",
       "    <tr>\n",
       "      <td>103801</td>\n",
       "      <td>17ddf5dd5d51696bb3d7c6291687be6f</td>\n",
       "      <td>1a29b476fee25c95fbafc67c5ac95cf8</td>\n",
       "      <td>e18cc7fc5eb938dd26feb68acbf88642</td>\n",
       "      <td>dc317f341ab0e22f39acbd9dbf9b4a1f</td>\n",
       "      <td>28ce57ecf4afba85e6020ec0209cada9</td>\n",
       "      <td>cool_stuff</td>\n",
       "      <td>sao paulo</td>\n",
       "      <td>SP</td>\n",
       "      <td>249.90</td>\n",
       "      <td>69.21</td>\n",
       "      <td>319.11</td>\n",
       "      <td>5650.0</td>\n",
       "      <td>73.0</td>\n",
       "      <td>73.0</td>\n",
       "      <td>20.0</td>\n",
       "    </tr>\n",
       "    <tr>\n",
       "      <td>103802</td>\n",
       "      <td>e7b71a9017aa05c9a7fd292d714858e8</td>\n",
       "      <td>d52a67c98be1cf6a5c84435bd38d095d</td>\n",
       "      <td>e18cd51191ffbe2bca934d1d13805164</td>\n",
       "      <td>955fee9216a65b617aa5c0531780ce60</td>\n",
       "      <td>aca2eb7d00ea1a7b8ebd4e68314663af</td>\n",
       "      <td>furniture_decor</td>\n",
       "      <td>taboao da serra</td>\n",
       "      <td>SP</td>\n",
       "      <td>75.00</td>\n",
       "      <td>20.02</td>\n",
       "      <td>190.04</td>\n",
       "      <td>2600.0</td>\n",
       "      <td>50.0</td>\n",
       "      <td>10.0</td>\n",
       "      <td>30.0</td>\n",
       "    </tr>\n",
       "    <tr>\n",
       "      <td>103803</td>\n",
       "      <td>5e28dfe12db7fb50a4b2f691faecea5e</td>\n",
       "      <td>e9f50caf99f032f0bf3c55141f019d99</td>\n",
       "      <td>e18cd51191ffbe2bca934d1d13805164</td>\n",
       "      <td>955fee9216a65b617aa5c0531780ce60</td>\n",
       "      <td>aca2eb7d00ea1a7b8ebd4e68314663af</td>\n",
       "      <td>furniture_decor</td>\n",
       "      <td>fortaleza</td>\n",
       "      <td>CE</td>\n",
       "      <td>75.00</td>\n",
       "      <td>20.02</td>\n",
       "      <td>190.04</td>\n",
       "      <td>2600.0</td>\n",
       "      <td>50.0</td>\n",
       "      <td>10.0</td>\n",
       "      <td>30.0</td>\n",
       "    </tr>\n",
       "    <tr>\n",
       "      <td>103804</td>\n",
       "      <td>56b18e2166679b8a959d72dd06da27f9</td>\n",
       "      <td>73c2643a0a458b49f58cea58833b192e</td>\n",
       "      <td>e18d0e097ef9cdd7894ed1b82a2b7479</td>\n",
       "      <td>c42fd8e4d47dfb18ce5222f2dd7752f9</td>\n",
       "      <td>41171e11f920c47deb1809edda2bf09d</td>\n",
       "      <td>furniture_decor</td>\n",
       "      <td>canoas</td>\n",
       "      <td>RS</td>\n",
       "      <td>26.00</td>\n",
       "      <td>10.96</td>\n",
       "      <td>36.96</td>\n",
       "      <td>200.0</td>\n",
       "      <td>16.0</td>\n",
       "      <td>16.0</td>\n",
       "      <td>16.0</td>\n",
       "    </tr>\n",
       "    <tr>\n",
       "      <td>103805</td>\n",
       "      <td>274fa6071e5e17fe303b9748641082c8</td>\n",
       "      <td>84732c5050c01db9b23e19ba39899398</td>\n",
       "      <td>e18d4eb13f1910fda9a9b86f190ae508</td>\n",
       "      <td>4a3ca9315b744ce9f8e9374361493884</td>\n",
       "      <td>5bfc7506459ae2a7b4b573fe557a58e1</td>\n",
       "      <td>bed_bath_table</td>\n",
       "      <td>cotia</td>\n",
       "      <td>SP</td>\n",
       "      <td>69.90</td>\n",
       "      <td>16.25</td>\n",
       "      <td>86.15</td>\n",
       "      <td>800.0</td>\n",
       "      <td>45.0</td>\n",
       "      <td>15.0</td>\n",
       "      <td>35.0</td>\n",
       "    </tr>\n",
       "  </tbody>\n",
       "</table>\n",
       "<p>102282 rows × 15 columns</p>\n",
       "</div>"
      ],
      "text/plain": [
       "                             customer_id                customer_unique_id  \\\n",
       "0       06b8999e2fba1a1fbc88172c00ba8bc7  861eff4711a542e4b93843c6dd7febb0   \n",
       "1       18955e83d337fd6b2def6b18a428ac77  290c77bc529b7ac935b93aa66c333dc3   \n",
       "2       4e7b3e00288586ebd08712fdd0374a03  060e732b5b29e8181a18229c7b0b2b5e   \n",
       "3       b2b6027bc5c5109e529d4dc6358b12c3  259dac757896d24d7702b9acbbff3f3c   \n",
       "4       4f2d8ab171c80ec8364f7c12e35b23ad  345ecd01c38d18a9036ed96c73b8d066   \n",
       "...                                  ...                               ...   \n",
       "103801  17ddf5dd5d51696bb3d7c6291687be6f  1a29b476fee25c95fbafc67c5ac95cf8   \n",
       "103802  e7b71a9017aa05c9a7fd292d714858e8  d52a67c98be1cf6a5c84435bd38d095d   \n",
       "103803  5e28dfe12db7fb50a4b2f691faecea5e  e9f50caf99f032f0bf3c55141f019d99   \n",
       "103804  56b18e2166679b8a959d72dd06da27f9  73c2643a0a458b49f58cea58833b192e   \n",
       "103805  274fa6071e5e17fe303b9748641082c8  84732c5050c01db9b23e19ba39899398   \n",
       "\n",
       "                                order_id                         seller_id  \\\n",
       "0       00010242fe8c5a6d1ba2dd792cb16214  48436dade18ac8b2bce089ec2a041202   \n",
       "1       00018f77f2f0320c557190d7a144bdd3  dd7ddc04e1b6c2c614352b383efe2d36   \n",
       "2       000229ec398224ef6ca0657da4fc703e  5b51032eddd242adc84c38acab88f23d   \n",
       "3       00024acbcdf0a6daa1e931b038114c75  9d7a1d34a5052409006425275ba1c2b4   \n",
       "4       00042b26cf59d7ce69dfabb4e55b4fd9  df560393f3a51e74553ab94004ba5c87   \n",
       "...                                  ...                               ...   \n",
       "103801  e18cc7fc5eb938dd26feb68acbf88642  dc317f341ab0e22f39acbd9dbf9b4a1f   \n",
       "103802  e18cd51191ffbe2bca934d1d13805164  955fee9216a65b617aa5c0531780ce60   \n",
       "103803  e18cd51191ffbe2bca934d1d13805164  955fee9216a65b617aa5c0531780ce60   \n",
       "103804  e18d0e097ef9cdd7894ed1b82a2b7479  c42fd8e4d47dfb18ce5222f2dd7752f9   \n",
       "103805  e18d4eb13f1910fda9a9b86f190ae508  4a3ca9315b744ce9f8e9374361493884   \n",
       "\n",
       "                              product_id product_category_name_english  \\\n",
       "0       4244733e06e7ecb4970a6e2683c13e61                    cool_stuff   \n",
       "1       e5f2d52b802189ee658865ca93d83a8f                      pet_shop   \n",
       "2       c777355d18b72b67abbeef9df44fd0fd               furniture_decor   \n",
       "3       7634da152a4610f1595efa32f14722fc                     perfumery   \n",
       "4       ac6c3623068f30de03045865e4e10089                  garden_tools   \n",
       "...                                  ...                           ...   \n",
       "103801  28ce57ecf4afba85e6020ec0209cada9                    cool_stuff   \n",
       "103802  aca2eb7d00ea1a7b8ebd4e68314663af               furniture_decor   \n",
       "103803  aca2eb7d00ea1a7b8ebd4e68314663af               furniture_decor   \n",
       "103804  41171e11f920c47deb1809edda2bf09d               furniture_decor   \n",
       "103805  5bfc7506459ae2a7b4b573fe557a58e1                bed_bath_table   \n",
       "\n",
       "                customer_city customer_state   price  freight_value  \\\n",
       "0                      franca             SP   58.90          13.29   \n",
       "1       sao bernardo do campo             SP  239.90          19.93   \n",
       "2                   sao paulo             SP  199.00          17.87   \n",
       "3             mogi das cruzes             SP   12.99          12.79   \n",
       "4                    campinas             SP  199.90          18.14   \n",
       "...                       ...            ...     ...            ...   \n",
       "103801              sao paulo             SP  249.90          69.21   \n",
       "103802        taboao da serra             SP   75.00          20.02   \n",
       "103803              fortaleza             CE   75.00          20.02   \n",
       "103804                 canoas             RS   26.00          10.96   \n",
       "103805                  cotia             SP   69.90          16.25   \n",
       "\n",
       "        payment_value  product_weight_g  product_length_cm  product_height_cm  \\\n",
       "0               72.19             650.0               28.0                9.0   \n",
       "1              259.83           30000.0               50.0               30.0   \n",
       "2              216.87            3050.0               33.0               13.0   \n",
       "3               25.78             200.0               16.0               10.0   \n",
       "4              218.04            3750.0               35.0               40.0   \n",
       "...               ...               ...                ...                ...   \n",
       "103801         319.11            5650.0               73.0               73.0   \n",
       "103802         190.04            2600.0               50.0               10.0   \n",
       "103803         190.04            2600.0               50.0               10.0   \n",
       "103804          36.96             200.0               16.0               16.0   \n",
       "103805          86.15             800.0               45.0               15.0   \n",
       "\n",
       "        product_width_cm  \n",
       "0                   14.0  \n",
       "1                   40.0  \n",
       "2                   33.0  \n",
       "3                   15.0  \n",
       "4                   30.0  \n",
       "...                  ...  \n",
       "103801              20.0  \n",
       "103802              30.0  \n",
       "103803              30.0  \n",
       "103804              16.0  \n",
       "103805              35.0  \n",
       "\n",
       "[102282 rows x 15 columns]"
      ]
     },
     "execution_count": 4,
     "metadata": {},
     "output_type": "execute_result"
    }
   ],
   "source": [
    "df = cd_oid_opd_pdd_pnd[['customer_id', 'customer_unique_id','order_id', 'seller_id','product_id','product_category_name_english', 'customer_city', 'customer_state', 'price', 'freight_value','payment_value','product_weight_g', 'product_length_cm','product_height_cm','product_width_cm']]\n",
    "df = df.dropna()\n",
    "df"
   ]
  },
  {
   "cell_type": "code",
   "execution_count": 5,
   "metadata": {},
   "outputs": [
    {
     "data": {
      "text/html": [
       "<div>\n",
       "<style scoped>\n",
       "    .dataframe tbody tr th:only-of-type {\n",
       "        vertical-align: middle;\n",
       "    }\n",
       "\n",
       "    .dataframe tbody tr th {\n",
       "        vertical-align: top;\n",
       "    }\n",
       "\n",
       "    .dataframe thead th {\n",
       "        text-align: right;\n",
       "    }\n",
       "</style>\n",
       "<table border=\"1\" class=\"dataframe\">\n",
       "  <thead>\n",
       "    <tr style=\"text-align: right;\">\n",
       "      <th></th>\n",
       "      <th>customer_state</th>\n",
       "      <th>0</th>\n",
       "    </tr>\n",
       "  </thead>\n",
       "  <tbody>\n",
       "    <tr>\n",
       "      <td>0</td>\n",
       "      <td>AC</td>\n",
       "      <td>86</td>\n",
       "    </tr>\n",
       "    <tr>\n",
       "      <td>1</td>\n",
       "      <td>AL</td>\n",
       "      <td>433</td>\n",
       "    </tr>\n",
       "    <tr>\n",
       "      <td>2</td>\n",
       "      <td>AM</td>\n",
       "      <td>148</td>\n",
       "    </tr>\n",
       "    <tr>\n",
       "      <td>3</td>\n",
       "      <td>AP</td>\n",
       "      <td>69</td>\n",
       "    </tr>\n",
       "    <tr>\n",
       "      <td>4</td>\n",
       "      <td>BA</td>\n",
       "      <td>3478</td>\n",
       "    </tr>\n",
       "  </tbody>\n",
       "</table>\n",
       "</div>"
      ],
      "text/plain": [
       "  customer_state     0\n",
       "0             AC    86\n",
       "1             AL   433\n",
       "2             AM   148\n",
       "3             AP    69\n",
       "4             BA  3478"
      ]
     },
     "execution_count": 5,
     "metadata": {},
     "output_type": "execute_result"
    }
   ],
   "source": [
    "state = df.groupby('customer_state').size().reset_index()\n",
    "state.head()"
   ]
  },
  {
   "cell_type": "code",
   "execution_count": 6,
   "metadata": {},
   "outputs": [
    {
     "data": {
      "text/html": [
       "<div>\n",
       "<style scoped>\n",
       "    .dataframe tbody tr th:only-of-type {\n",
       "        vertical-align: middle;\n",
       "    }\n",
       "\n",
       "    .dataframe tbody tr th {\n",
       "        vertical-align: top;\n",
       "    }\n",
       "\n",
       "    .dataframe thead th {\n",
       "        text-align: right;\n",
       "    }\n",
       "</style>\n",
       "<table border=\"1\" class=\"dataframe\">\n",
       "  <thead>\n",
       "    <tr style=\"text-align: right;\">\n",
       "      <th></th>\n",
       "      <th>product_category_name_english</th>\n",
       "      <th>0</th>\n",
       "    </tr>\n",
       "  </thead>\n",
       "  <tbody>\n",
       "    <tr>\n",
       "      <td>0</td>\n",
       "      <td>agro_industry_and_commerce</td>\n",
       "      <td>220</td>\n",
       "    </tr>\n",
       "    <tr>\n",
       "      <td>1</td>\n",
       "      <td>air_conditioning</td>\n",
       "      <td>268</td>\n",
       "    </tr>\n",
       "    <tr>\n",
       "      <td>2</td>\n",
       "      <td>art</td>\n",
       "      <td>198</td>\n",
       "    </tr>\n",
       "    <tr>\n",
       "      <td>3</td>\n",
       "      <td>arts_and_craftmanship</td>\n",
       "      <td>23</td>\n",
       "    </tr>\n",
       "    <tr>\n",
       "      <td>4</td>\n",
       "      <td>audio</td>\n",
       "      <td>336</td>\n",
       "    </tr>\n",
       "  </tbody>\n",
       "</table>\n",
       "</div>"
      ],
      "text/plain": [
       "  product_category_name_english    0\n",
       "0    agro_industry_and_commerce  220\n",
       "1              air_conditioning  268\n",
       "2                           art  198\n",
       "3         arts_and_craftmanship   23\n",
       "4                         audio  336"
      ]
     },
     "execution_count": 6,
     "metadata": {},
     "output_type": "execute_result"
    }
   ],
   "source": [
    "product_category = df.groupby('product_category_name_english').size().reset_index()\n",
    "product_category.head()"
   ]
  },
  {
   "cell_type": "code",
   "execution_count": 7,
   "metadata": {},
   "outputs": [
    {
     "name": "stderr",
     "output_type": "stream",
     "text": [
      "100%|██████████████████████████████████████████████████████████████████████████████████| 27/27 [00:02<00:00, 10.51it/s]\n"
     ]
    },
    {
     "data": {
      "text/plain": [
       "1917"
      ]
     },
     "execution_count": 7,
     "metadata": {},
     "output_type": "execute_result"
    }
   ],
   "source": [
    "# creating the list of useful values and attributes\n",
    "from tqdm import tqdm\n",
    "category_name = np.asarray(product_category['product_category_name_english'])\n",
    "state_name = np.asarray(state['customer_state'])\n",
    "plot_data = []\n",
    "for i in tqdm(range(len(state_name))):\n",
    "    df1 = df.loc[df['customer_state'] == state_name[i]]\n",
    "\n",
    "    for j in range(len(category_name)):\n",
    "        sum1 = (df1.loc[df1['product_category_name_english'] == category_name[j], 'payment_value'].sum())\n",
    "        plot_data.append((state_name[i], category_name[j], sum1))   \n",
    "len(plot_data)"
   ]
  },
  {
   "cell_type": "code",
   "execution_count": 8,
   "metadata": {},
   "outputs": [
    {
     "data": {
      "text/html": [
       "<div>\n",
       "<style scoped>\n",
       "    .dataframe tbody tr th:only-of-type {\n",
       "        vertical-align: middle;\n",
       "    }\n",
       "\n",
       "    .dataframe tbody tr th {\n",
       "        vertical-align: top;\n",
       "    }\n",
       "\n",
       "    .dataframe thead th {\n",
       "        text-align: right;\n",
       "    }\n",
       "</style>\n",
       "<table border=\"1\" class=\"dataframe\">\n",
       "  <thead>\n",
       "    <tr style=\"text-align: right;\">\n",
       "      <th></th>\n",
       "      <th>state_name</th>\n",
       "      <th>category_name</th>\n",
       "      <th>revenue</th>\n",
       "    </tr>\n",
       "  </thead>\n",
       "  <tbody>\n",
       "    <tr>\n",
       "      <td>0</td>\n",
       "      <td>AC</td>\n",
       "      <td>agro_industry_and_commerce</td>\n",
       "      <td>0.0</td>\n",
       "    </tr>\n",
       "    <tr>\n",
       "      <td>1</td>\n",
       "      <td>AC</td>\n",
       "      <td>air_conditioning</td>\n",
       "      <td>0.0</td>\n",
       "    </tr>\n",
       "    <tr>\n",
       "      <td>2</td>\n",
       "      <td>AC</td>\n",
       "      <td>art</td>\n",
       "      <td>0.0</td>\n",
       "    </tr>\n",
       "    <tr>\n",
       "      <td>3</td>\n",
       "      <td>AC</td>\n",
       "      <td>arts_and_craftmanship</td>\n",
       "      <td>0.0</td>\n",
       "    </tr>\n",
       "    <tr>\n",
       "      <td>4</td>\n",
       "      <td>AC</td>\n",
       "      <td>audio</td>\n",
       "      <td>0.0</td>\n",
       "    </tr>\n",
       "  </tbody>\n",
       "</table>\n",
       "</div>"
      ],
      "text/plain": [
       "  state_name               category_name  revenue\n",
       "0         AC  agro_industry_and_commerce      0.0\n",
       "1         AC            air_conditioning      0.0\n",
       "2         AC                         art      0.0\n",
       "3         AC       arts_and_craftmanship      0.0\n",
       "4         AC                       audio      0.0"
      ]
     },
     "execution_count": 8,
     "metadata": {},
     "output_type": "execute_result"
    }
   ],
   "source": [
    "df2 = pd.DataFrame(plot_data, columns =['state_name', 'category_name', 'revenue'])\n",
    "df2.head()"
   ]
  },
  {
   "cell_type": "code",
   "execution_count": 10,
   "metadata": {},
   "outputs": [
    {
     "data": {
      "text/plain": [
       "array([[0.0000000e+00, 0.0000000e+00, 0.0000000e+00, ..., 3.7484000e+02,\n",
       "        0.0000000e+00, 1.7276700e+03],\n",
       "       [0.0000000e+00, 8.4639000e+02, 0.0000000e+00, ..., 6.3722000e+02,\n",
       "        9.9373000e+02, 6.7076800e+03],\n",
       "       [0.0000000e+00, 2.9000000e+01, 0.0000000e+00, ..., 7.4379000e+02,\n",
       "        8.2234000e+02, 2.1459000e+03],\n",
       "       ...,\n",
       "       [4.5615000e+02, 1.2999100e+03, 1.2349000e+02, ..., 7.6135000e+02,\n",
       "        2.7178000e+03, 5.5487300e+03],\n",
       "       [4.6022350e+04, 3.6085230e+04, 1.0103500e+04, ..., 1.9481213e+05,\n",
       "        2.2011682e+05, 5.3876202e+05],\n",
       "       [4.7505000e+02, 0.0000000e+00, 0.0000000e+00, ..., 1.2880600e+03,\n",
       "        1.3726800e+03, 4.1558800e+03]])"
      ]
     },
     "execution_count": 10,
     "metadata": {},
     "output_type": "execute_result"
    }
   ],
   "source": [
    "#reshaping the array to make a grid of 27x71\n",
    "array2d = np.asarray(df2['revenue']).reshape(27,71)\n",
    "array2d"
   ]
  },
  {
   "cell_type": "code",
   "execution_count": 11,
   "metadata": {},
   "outputs": [
    {
     "data": {
      "text/plain": [
       "(27, 71)"
      ]
     },
     "execution_count": 11,
     "metadata": {},
     "output_type": "execute_result"
    }
   ],
   "source": [
    "#finding the unique values for  both the axes\n",
    "uniq_state = df2['state_name'].unique()\n",
    "uniq_category = df2['category_name'].unique()\n",
    "len(uniq_state), len(uniq_category)"
   ]
  },
  {
   "cell_type": "markdown",
   "metadata": {},
   "source": [
    "### **Creating Heatmap of revenue of product category in given state**"
   ]
  },
  {
   "cell_type": "code",
   "execution_count": 87,
   "metadata": {},
   "outputs": [],
   "source": [
    "mySelectedLabel = ipywidgets.Label()"
   ]
  },
  {
   "cell_type": "code",
   "execution_count": 88,
   "metadata": {},
   "outputs": [
    {
     "data": {
      "application/vnd.jupyter.widget-view+json": {
       "model_id": "be6123ee9563455ead68e70face67ee1",
       "version_major": 2,
       "version_minor": 0
      },
      "text/plain": [
       "VBox(children=(Label(value=''), Figure(axes=[ColorAxis(orientation='vertical', scale=ColorScale(), side='right…"
      ]
     },
     "metadata": {},
     "output_type": "display_data"
    }
   ],
   "source": [
    "import bqplot\n",
    "from bqplot import pyplot\n",
    "# 2. scales - linear scales\n",
    "x_sc = bqplot.OrdinalScale()\n",
    "y_sc = bqplot.OrdinalScale()\n",
    "c_sc = bqplot.ColorScale()\n",
    "\n",
    "# 3. axis\n",
    "ax_x = bqplot.Axis(scale = x_sc, label='category_name')\n",
    "ax_y = bqplot.Axis(scale = y_sc, orientation='vertical', label='state_name')\n",
    "ax_col = bqplot.ColorAxis(scale = c_sc, orientation='vertical', side='right') \n",
    "# 4. Marks\n",
    "heat_map = bqplot.GridHeatMap(color = array2d, \n",
    "                              row = uniq_state, \n",
    "                              column = uniq_category, \n",
    "                              scales = {'color':c_sc, 'row':y_sc, 'column':x_sc},\n",
    "                             interactions={'click':'select'},\n",
    "                             anchor_style={'fill':'blue'},\n",
    "                             title = 'Revenue Generated Per Category from Each State')\n",
    "#                              selected_style={'opacity':1.0},\n",
    "#                              unselected_style={'opacity':0.8})\n",
    "\n",
    "#5. interactivity\n",
    "mySelectedLabel = ipywidgets.Label()\n",
    "def on_selected(change): # already modified for our 3d data\n",
    "    if len(change['owner'].selected) == 1:\n",
    "        i, j = change['owner'].selected[0]\n",
    "        v = array2d[i,j] # this is a 2d array!!\n",
    "        mySelectedLabel.value = 'Total Revenue from product category: '+ uniq_category[i] +' is '+ '$'+str(round(v, 4)) + '\\n' +' in state: ' + uniq_state[i]\n",
    "\n",
    "        \n",
    "# make sure we are observing for changes in our heatmap\n",
    "heat_map.observe(on_selected, 'selected')\n",
    "        \n",
    "# figure!\n",
    "fig = bqplot.Figure(marks=[heat_map], axes=[ax_col, ax_y, ax_x])\n",
    "#fig\n",
    "\n",
    "# dashboard with my label\n",
    "myDashboard = ipywidgets.VBox([mySelectedLabel, fig])\n",
    "myDashboard"
   ]
  },
  {
   "cell_type": "markdown",
   "metadata": {},
   "source": [
    "The very first thing to understand about online purchase is understanding how much money people are putting in buying different products. In Brazil dataset, it can be seen that every state has different per capita income and people spend different amount of money and also on different categories. On this heatmap you can click on any brick to know in a given state for a given product how many dollars are spent. The bricks/tiles are also showing the colors as per the magnitude of amount spent. You can select the highest revenue generating tile directly by looking at the heatmap."
   ]
  },
  {
   "cell_type": "markdown",
   "metadata": {},
   "source": [
    "### **Other Dashboard Plots**"
   ]
  },
  {
   "cell_type": "markdown",
   "metadata": {},
   "source": [
    "#### **Bar plot to show total revenue generated in a given state**"
   ]
  },
  {
   "cell_type": "code",
   "execution_count": 17,
   "metadata": {},
   "outputs": [],
   "source": [
    "bar_data = df.groupby('customer_state').sum().reset_index()"
   ]
  },
  {
   "cell_type": "code",
   "execution_count": 18,
   "metadata": {},
   "outputs": [
    {
     "data": {
      "text/plain": [
       "array([  12861.12      ,   75962.73      ,   29284.79      ,\n",
       "         12055.28      ,  597959.3       ,  235832.48      ,\n",
       "        359400.32      ,  379393.73      ,  354799.45      ,\n",
       "        126256.07      , 2083337.72000001,  122422.49      ,\n",
       "        172243.8       ,  171203.22      ,   93771.52      ,\n",
       "        288302.69      ,   83367.01      ,  926111.74      ,\n",
       "       2267336.09000001,   85444.47      ,   43341.71      ,\n",
       "         11587.21      ,  962571.2       ,  658328.94      ,\n",
       "         64383.18      , 7458064.04999986,   56643.06      ])"
      ]
     },
     "execution_count": 18,
     "metadata": {},
     "output_type": "execute_result"
    }
   ],
   "source": [
    "states  = bar_data['customer_state'].unique()\n",
    "revenue = np.asarray(bar_data['payment_value'])\n",
    "# len(states), len(revenue)\n",
    "revenue"
   ]
  },
  {
   "cell_type": "code",
   "execution_count": 19,
   "metadata": {},
   "outputs": [
    {
     "data": {
      "text/plain": [
       "<BarContainer object of 27 artists>"
      ]
     },
     "execution_count": 19,
     "metadata": {},
     "output_type": "execute_result"
    },
    {
     "data": {
      "image/png": "[encoded data removed]",
      "text/plain": [
       "<Figure size 432x288 with 1 Axes>"
      ]
     },
     "metadata": {
      "needs_background": "light"
     },
     "output_type": "display_data"
    }
   ],
   "source": [
    "plt.bar(states, revenue)"
   ]
  },
  {
   "cell_type": "markdown",
   "metadata": {},
   "source": [
    "This plot shows the amount of money spent by consumers from each state. This helps us understand how consumers from different state can spend differently as per their needs. States with larger cities have morerevenues as compared to small states with less number of cities."
   ]
  },
  {
   "cell_type": "markdown",
   "metadata": {},
   "source": [
    "#### **Scatter plot to show number of customers buying given product**"
   ]
  },
  {
   "cell_type": "code",
   "execution_count": 20,
   "metadata": {},
   "outputs": [],
   "source": [
    "scc_data = df.groupby('product_category_name_english').count().reset_index()"
   ]
  },
  {
   "cell_type": "code",
   "execution_count": 21,
   "metadata": {},
   "outputs": [
    {
     "data": {
      "text/plain": [
       "array([  220,   268,   198,    23,   336,  3857,  2856, 10437,   498,\n",
       "          48,   230,    13,   132,    63,   198,  7117,  1069,   852,\n",
       "         278,   179,  3518,   218,    91,    33,   341,    67,  2487,\n",
       "          40,  1891,     7,   127,   235,    28,   122,   248,    30,\n",
       "         450,   258,   106,  7761,   464,    37,  4065,  8774,   701,\n",
       "         245,    28,   418,   566,  6472,   237,   262,    13,  1042,\n",
       "         295,    36,   654,  1536,    44,  3151,  1793,     2,   179,\n",
       "         618,    71,  7823,  2298,    80,  4156,  3777,  5515],\n",
       "      dtype=int64)"
      ]
     },
     "execution_count": 21,
     "metadata": {},
     "output_type": "execute_result"
    }
   ],
   "source": [
    "product_category = scc_data['product_category_name_english']\n",
    "number_customer = scc_data['customer_unique_id']\n",
    "len(product_category), len(number_customer)\n",
    "fig3_array = np.asarray(number_customer)\n",
    "fig3_array"
   ]
  },
  {
   "cell_type": "code",
   "execution_count": 22,
   "metadata": {},
   "outputs": [
    {
     "data": {
      "text/plain": [
       "<matplotlib.collections.PathCollection at 0x29ca8a6dfc8>"
      ]
     },
     "execution_count": 22,
     "metadata": {},
     "output_type": "execute_result"
    },
    {
     "data": {
      "image/png": "[encoded data removed]",
      "text/plain": [
       "<Figure size 432x288 with 1 Axes>"
      ]
     },
     "metadata": {
      "needs_background": "light"
     },
     "output_type": "display_data"
    }
   ],
   "source": [
    "plt.scatter(product_category, number_customer)"
   ]
  },
  {
   "cell_type": "markdown",
   "metadata": {},
   "source": [
    "Another important factor we can extract from E-Commerce data is the popularity if a given product category. Consumers tend to buy some specific categories of products from online market. The scatter plot shows the number of customers who bought their product."
   ]
  },
  {
   "cell_type": "markdown",
   "metadata": {},
   "source": [
    "#### **Line plot to show shipping cost for a given state**"
   ]
  },
  {
   "cell_type": "code",
   "execution_count": 24,
   "metadata": {},
   "outputs": [],
   "source": [
    "line_data = df.groupby('customer_state').mean().reset_index()"
   ]
  },
  {
   "cell_type": "code",
   "execution_count": 26,
   "metadata": {},
   "outputs": [],
   "source": [
    "state_cust = line_data['customer_state']\n",
    "fri_value = line_data['freight_value']\n",
    "len(state_cust), len(fri_value)\n",
    "fig4_array = np.asarray(fri_value)"
   ]
  },
  {
   "cell_type": "code",
   "execution_count": 27,
   "metadata": {},
   "outputs": [
    {
     "data": {
      "text/plain": [
       "[<matplotlib.lines.Line2D at 0x29ca94592c8>]"
      ]
     },
     "execution_count": 27,
     "metadata": {},
     "output_type": "execute_result"
    },
    {
     "data": {
      "image/png": "[encoded data removed]",
      "text/plain": [
       "<Figure size 432x288 with 1 Axes>"
      ]
     },
     "metadata": {
      "needs_background": "light"
     },
     "output_type": "display_data"
    }
   ],
   "source": [
    "plt.plot(state_cust, fri_value)"
   ]
  },
  {
   "cell_type": "markdown",
   "metadata": {},
   "source": [
    "Patterns in data have shown that people from different state reacts differently for the shipping costs of the products. For online products it has been seen that the warehouses of these E-Commerce companies are concentrated on one of the states in a given region and the shipping cost is decided by how far the given customer location is from the warehouse. This plot shows us how shipping cost changes for different states in Brazil."
   ]
  },
  {
   "cell_type": "markdown",
   "metadata": {},
   "source": [
    "## **Final Dashboard**"
   ]
  },
  {
   "cell_type": "code",
   "execution_count": 28,
   "metadata": {},
   "outputs": [],
   "source": [
    "mySelectedLabel = ipywidgets.Label()\n",
    "def on_selected(change): # already modified for our 3d data\n",
    "    if len(change['owner'].selected) == 1:\n",
    "        i, j = change['owner'].selected[0]\n",
    "        v = array2d[i,j] # this is a 2d array!!\n",
    "        v2 = fig3_array[j]\n",
    "        v3 = fig4_array[i]\n",
    "        mySelectedLabel.value = 'For State: '+  uniq_state[i] + ' and Product Category: ' + uniq_category[j]  + ' Revenue is: ' + str(round(v, 4)) + ' Number of Customers are: ' + str(v2) + ' and Average Shipping cost for this state is: ' + str(round(v3, 4))\n",
    "        linep1.y = revenue[i:j] #fig2\n",
    "        linep2.y = number_customer[i:j]\n",
    "        linep3.y = fri_value[i:j]"
   ]
  },
  {
   "cell_type": "code",
   "execution_count": null,
   "metadata": {},
   "outputs": [],
   "source": [
    "from bqplot import pyplot\n",
    "# 2. scales - linear scales\n",
    "x_sc = bqplot.OrdinalScale()\n",
    "y_sc = bqplot.OrdinalScale()\n",
    "c_sc = bqplot.ColorScale()\n",
    "\n",
    "# 3. axis\n",
    "ax_x = bqplot.Axis(scale = x_sc, label='category_name')\n",
    "ax_y = bqplot.Axis(scale = y_sc, orientation='vertical', label='state_name')\n",
    "ax_col = bqplot.ColorAxis(scale = c_sc, orientation='vertical', side='right') \n",
    "# 4. Marks\n",
    "heat_map = bqplot.GridHeatMap(color = array2d, \n",
    "                              row = uniq_state, \n",
    "                              column = uniq_category, \n",
    "                              scales = {'color':c_sc, 'row':y_sc, 'column':x_sc},\n",
    "                             interactions={'click':'select'},\n",
    "                             anchor_style={'fill':'blue'})\n",
    "# make sure we are observing for changes in our heatmap\n",
    "heat_map.observe(on_selected, 'selected')\n",
    "fig1 = bqplot.Figure(marks=[heat_map], axes=[ax_col, ax_y, ax_x])"
   ]
  },
  {
   "cell_type": "code",
   "execution_count": 30,
   "metadata": {},
   "outputs": [
    {
     "data": {
      "application/vnd.jupyter.widget-view+json": {
       "model_id": "1ad4263fc38340b5857f53cd131c30b5",
       "version_major": 2,
       "version_minor": 0
      },
      "text/plain": [
       "Figure(axes=[Axis(label='State', scale=OrdinalScale()), Axis(label='Amount in USD', orientation='vertical', sc…"
      ]
     },
     "metadata": {},
     "output_type": "display_data"
    }
   ],
   "source": [
    "#Line Plot\n",
    "fig2 = bqplot.pyplot.figure(title='Revenue generated by Each State', background_style={'fill': 'lightgreen'},\n",
    "                 title_style={'font-size': '20px','fill': 'DarkOrange'})\n",
    "x_sc = bqplot.OrdinalScale()\n",
    "y_sc = bqplot.LinearScale()\n",
    "axes_options = {'x': {'label': 'State'},\n",
    "                'y': {'label': 'Amount in USD', 'tick_format': '0.0f'}}\n",
    "linep1 = bqplot.pyplot.bar(x = np.asarray(bar_data['customer_state']), y = revenue, axes_options=axes_options, scales = {'x': x_sc, 'y': y_sc})\n",
    "fig2 "
   ]
  },
  {
   "cell_type": "code",
   "execution_count": 31,
   "metadata": {},
   "outputs": [
    {
     "data": {
      "application/vnd.jupyter.widget-view+json": {
       "model_id": "13d042e28ae24485a51c8fdd1214e643",
       "version_major": 2,
       "version_minor": 0
      },
      "text/plain": [
       "Figure(axes=[Axis(label='Product Cateory', scale=OrdinalScale()), Axis(label='Number of Customers', orientatio…"
      ]
     },
     "metadata": {},
     "output_type": "display_data"
    }
   ],
   "source": [
    "#Line Plot\n",
    "fig3 = bqplot.pyplot.figure(title='Number of Customers buying from a given product category', background_style={'fill': 'lightblue'},\n",
    "                 title_style={'font-size': '20px','fill': 'DarkOrange'})\n",
    "x_sc = bqplot.OrdinalScale()\n",
    "y_sc = bqplot.LinearScale()\n",
    "axes_options = {'x': {'label': 'Product Cateory'},\n",
    "                'y': {'label': 'Number of Customers', 'tick_format': '0.0f'}}\n",
    "linep2 = bqplot.pyplot.scatter(x = np.asarray(scc_data['product_category_name_english']), y = number_customer, axes_options=axes_options, scales = {'x': x_sc, 'y': y_sc})\n",
    "fig3"
   ]
  },
  {
   "cell_type": "code",
   "execution_count": 32,
   "metadata": {},
   "outputs": [
    {
     "data": {
      "application/vnd.jupyter.widget-view+json": {
       "model_id": "61b939d1de95436f8f5f90634610fce4",
       "version_major": 2,
       "version_minor": 0
      },
      "text/plain": [
       "Figure(axes=[Axis(label='State', scale=OrdinalScale()), Axis(label='Shipping Cost', orientation='vertical', sc…"
      ]
     },
     "metadata": {},
     "output_type": "display_data"
    }
   ],
   "source": [
    "fig4 = bqplot.pyplot.figure(title='Shipping Cost Paid in Different States', background_style={'fill': 'lightgrey'},\n",
    "                 title_style={'font-size': '20px','fill': 'DarkOrange'})\n",
    "x_sc = bqplot.OrdinalScale()\n",
    "y_sc = bqplot.LinearScale()\n",
    "axes_options = {'x': {'label': 'State'},\n",
    "                'y': {'label': 'Shipping Cost', 'tick_format': '0.0f'}}\n",
    "linep3 = bqplot.pyplot.plot(x = np.asarray(line_data['customer_state']), y = fri_value, axes_options=axes_options, scales = {'x': x_sc, 'y': y_sc})\n",
    "fig4"
   ]
  },
  {
   "cell_type": "code",
   "execution_count": 33,
   "metadata": {},
   "outputs": [
    {
     "data": {
      "application/vnd.jupyter.widget-view+json": {
       "model_id": "099576f2697a4042bfe02f3481ae9024",
       "version_major": 2,
       "version_minor": 0
      },
      "text/plain": [
       "VBox(children=(Label(value=''), HBox(children=(Figure(axes=[ColorAxis(orientation='vertical', scale=ColorScale…"
      ]
     },
     "metadata": {},
     "output_type": "display_data"
    }
   ],
   "source": [
    "fig1.layout.min_width='500px'\n",
    "fig2.layout.min_width='500px'\n",
    "fig3.layout.min_width='500px'\n",
    "fig4.layout.min_width='500px'\n",
    "\n",
    "figures = ipywidgets.HBox([fig1, fig2]) # figures side-by-side\n",
    "figuresv = ipywidgets.HBox([fig3, fig4])\n",
    "\n",
    "# label on top\n",
    "myDashboard = ipywidgets.VBox([mySelectedLabel, figures, figuresv])\n",
    "myDashboard"
   ]
  },
  {
   "cell_type": "markdown",
   "metadata": {},
   "source": [
    "Dashboard above is showing the effect of above four plots on each other. The Dashboard as shown takes input from the heatmap. The heatmap input can be taken by clicking on any one tile and it shows us the revenue for that state and product category. But as we select the state and product category other plots in the dashboard changes according to this input. The plot on the top right shows us the effect on total revenue on that state. the bottom left plot shows the change in number of customers buying the given selected product category. Finally, the bottom right plot changes as per the shipping cost in that state. This complete dashboard gives a great overview of how the consumers are behaving in the E-Commerce market and how their preferences change depending on the product category and location."
   ]
  },
  {
   "cell_type": "markdown",
   "metadata": {},
   "source": [
    "## **Contextual Visualization**"
   ]
  },
  {
   "cell_type": "code",
   "execution_count": 35,
   "metadata": {},
   "outputs": [],
   "source": [
    "#importing data\n",
    "df_new = pd.read_csv('data.csv', encoding = 'unicode_escape')"
   ]
  },
  {
   "cell_type": "code",
   "execution_count": 41,
   "metadata": {},
   "outputs": [
    {
     "data": {
      "text/html": [
       "<div>\n",
       "<style scoped>\n",
       "    .dataframe tbody tr th:only-of-type {\n",
       "        vertical-align: middle;\n",
       "    }\n",
       "\n",
       "    .dataframe tbody tr th {\n",
       "        vertical-align: top;\n",
       "    }\n",
       "\n",
       "    .dataframe thead th {\n",
       "        text-align: right;\n",
       "    }\n",
       "</style>\n",
       "<table border=\"1\" class=\"dataframe\">\n",
       "  <thead>\n",
       "    <tr style=\"text-align: right;\">\n",
       "      <th></th>\n",
       "      <th>InvoiceNo</th>\n",
       "      <th>StockCode</th>\n",
       "      <th>Description</th>\n",
       "      <th>Quantity</th>\n",
       "      <th>InvoiceDate</th>\n",
       "      <th>UnitPrice</th>\n",
       "      <th>CustomerID</th>\n",
       "      <th>Country</th>\n",
       "    </tr>\n",
       "  </thead>\n",
       "  <tbody>\n",
       "    <tr>\n",
       "      <td>0</td>\n",
       "      <td>536365</td>\n",
       "      <td>85123A</td>\n",
       "      <td>WHITE HANGING HEART T-LIGHT HOLDER</td>\n",
       "      <td>6</td>\n",
       "      <td>12/1/2010 8:26</td>\n",
       "      <td>2.55</td>\n",
       "      <td>17850.0</td>\n",
       "      <td>United Kingdom</td>\n",
       "    </tr>\n",
       "    <tr>\n",
       "      <td>1</td>\n",
       "      <td>536365</td>\n",
       "      <td>71053</td>\n",
       "      <td>WHITE METAL LANTERN</td>\n",
       "      <td>6</td>\n",
       "      <td>12/1/2010 8:26</td>\n",
       "      <td>3.39</td>\n",
       "      <td>17850.0</td>\n",
       "      <td>United Kingdom</td>\n",
       "    </tr>\n",
       "    <tr>\n",
       "      <td>2</td>\n",
       "      <td>536365</td>\n",
       "      <td>84406B</td>\n",
       "      <td>CREAM CUPID HEARTS COAT HANGER</td>\n",
       "      <td>8</td>\n",
       "      <td>12/1/2010 8:26</td>\n",
       "      <td>2.75</td>\n",
       "      <td>17850.0</td>\n",
       "      <td>United Kingdom</td>\n",
       "    </tr>\n",
       "    <tr>\n",
       "      <td>3</td>\n",
       "      <td>536365</td>\n",
       "      <td>84029G</td>\n",
       "      <td>KNITTED UNION FLAG HOT WATER BOTTLE</td>\n",
       "      <td>6</td>\n",
       "      <td>12/1/2010 8:26</td>\n",
       "      <td>3.39</td>\n",
       "      <td>17850.0</td>\n",
       "      <td>United Kingdom</td>\n",
       "    </tr>\n",
       "    <tr>\n",
       "      <td>4</td>\n",
       "      <td>536365</td>\n",
       "      <td>84029E</td>\n",
       "      <td>RED WOOLLY HOTTIE WHITE HEART.</td>\n",
       "      <td>6</td>\n",
       "      <td>12/1/2010 8:26</td>\n",
       "      <td>3.39</td>\n",
       "      <td>17850.0</td>\n",
       "      <td>United Kingdom</td>\n",
       "    </tr>\n",
       "    <tr>\n",
       "      <td>...</td>\n",
       "      <td>...</td>\n",
       "      <td>...</td>\n",
       "      <td>...</td>\n",
       "      <td>...</td>\n",
       "      <td>...</td>\n",
       "      <td>...</td>\n",
       "      <td>...</td>\n",
       "      <td>...</td>\n",
       "    </tr>\n",
       "    <tr>\n",
       "      <td>541904</td>\n",
       "      <td>581587</td>\n",
       "      <td>22613</td>\n",
       "      <td>PACK OF 20 SPACEBOY NAPKINS</td>\n",
       "      <td>12</td>\n",
       "      <td>12/9/2011 12:50</td>\n",
       "      <td>0.85</td>\n",
       "      <td>12680.0</td>\n",
       "      <td>France</td>\n",
       "    </tr>\n",
       "    <tr>\n",
       "      <td>541905</td>\n",
       "      <td>581587</td>\n",
       "      <td>22899</td>\n",
       "      <td>CHILDREN'S APRON DOLLY GIRL</td>\n",
       "      <td>6</td>\n",
       "      <td>12/9/2011 12:50</td>\n",
       "      <td>2.10</td>\n",
       "      <td>12680.0</td>\n",
       "      <td>France</td>\n",
       "    </tr>\n",
       "    <tr>\n",
       "      <td>541906</td>\n",
       "      <td>581587</td>\n",
       "      <td>23254</td>\n",
       "      <td>CHILDRENS CUTLERY DOLLY GIRL</td>\n",
       "      <td>4</td>\n",
       "      <td>12/9/2011 12:50</td>\n",
       "      <td>4.15</td>\n",
       "      <td>12680.0</td>\n",
       "      <td>France</td>\n",
       "    </tr>\n",
       "    <tr>\n",
       "      <td>541907</td>\n",
       "      <td>581587</td>\n",
       "      <td>23255</td>\n",
       "      <td>CHILDRENS CUTLERY CIRCUS PARADE</td>\n",
       "      <td>4</td>\n",
       "      <td>12/9/2011 12:50</td>\n",
       "      <td>4.15</td>\n",
       "      <td>12680.0</td>\n",
       "      <td>France</td>\n",
       "    </tr>\n",
       "    <tr>\n",
       "      <td>541908</td>\n",
       "      <td>581587</td>\n",
       "      <td>22138</td>\n",
       "      <td>BAKING SET 9 PIECE RETROSPOT</td>\n",
       "      <td>3</td>\n",
       "      <td>12/9/2011 12:50</td>\n",
       "      <td>4.95</td>\n",
       "      <td>12680.0</td>\n",
       "      <td>France</td>\n",
       "    </tr>\n",
       "  </tbody>\n",
       "</table>\n",
       "<p>541909 rows × 8 columns</p>\n",
       "</div>"
      ],
      "text/plain": [
       "       InvoiceNo StockCode                          Description  Quantity  \\\n",
       "0         536365    85123A   WHITE HANGING HEART T-LIGHT HOLDER         6   \n",
       "1         536365     71053                  WHITE METAL LANTERN         6   \n",
       "2         536365    84406B       CREAM CUPID HEARTS COAT HANGER         8   \n",
       "3         536365    84029G  KNITTED UNION FLAG HOT WATER BOTTLE         6   \n",
       "4         536365    84029E       RED WOOLLY HOTTIE WHITE HEART.         6   \n",
       "...          ...       ...                                  ...       ...   \n",
       "541904    581587     22613          PACK OF 20 SPACEBOY NAPKINS        12   \n",
       "541905    581587     22899         CHILDREN'S APRON DOLLY GIRL          6   \n",
       "541906    581587     23254        CHILDRENS CUTLERY DOLLY GIRL          4   \n",
       "541907    581587     23255      CHILDRENS CUTLERY CIRCUS PARADE         4   \n",
       "541908    581587     22138        BAKING SET 9 PIECE RETROSPOT          3   \n",
       "\n",
       "            InvoiceDate  UnitPrice  CustomerID         Country  \n",
       "0        12/1/2010 8:26       2.55     17850.0  United Kingdom  \n",
       "1        12/1/2010 8:26       3.39     17850.0  United Kingdom  \n",
       "2        12/1/2010 8:26       2.75     17850.0  United Kingdom  \n",
       "3        12/1/2010 8:26       3.39     17850.0  United Kingdom  \n",
       "4        12/1/2010 8:26       3.39     17850.0  United Kingdom  \n",
       "...                 ...        ...         ...             ...  \n",
       "541904  12/9/2011 12:50       0.85     12680.0          France  \n",
       "541905  12/9/2011 12:50       2.10     12680.0          France  \n",
       "541906  12/9/2011 12:50       4.15     12680.0          France  \n",
       "541907  12/9/2011 12:50       4.15     12680.0          France  \n",
       "541908  12/9/2011 12:50       4.95     12680.0          France  \n",
       "\n",
       "[541909 rows x 8 columns]"
      ]
     },
     "execution_count": 41,
     "metadata": {},
     "output_type": "execute_result"
    }
   ],
   "source": [
    "df_new"
   ]
  },
  {
   "cell_type": "code",
   "execution_count": 68,
   "metadata": {},
   "outputs": [],
   "source": [
    "# multiplying to find actual revenue\n",
    "df_new['actual_cost_paid'] = df_new['Quantity']*df_new['UnitPrice']"
   ]
  },
  {
   "cell_type": "code",
   "execution_count": 69,
   "metadata": {},
   "outputs": [
    {
     "data": {
      "text/html": [
       "<div>\n",
       "<style scoped>\n",
       "    .dataframe tbody tr th:only-of-type {\n",
       "        vertical-align: middle;\n",
       "    }\n",
       "\n",
       "    .dataframe tbody tr th {\n",
       "        vertical-align: top;\n",
       "    }\n",
       "\n",
       "    .dataframe thead th {\n",
       "        text-align: right;\n",
       "    }\n",
       "</style>\n",
       "<table border=\"1\" class=\"dataframe\">\n",
       "  <thead>\n",
       "    <tr style=\"text-align: right;\">\n",
       "      <th></th>\n",
       "      <th>InvoiceNo</th>\n",
       "      <th>StockCode</th>\n",
       "      <th>Description</th>\n",
       "      <th>Quantity</th>\n",
       "      <th>InvoiceDate</th>\n",
       "      <th>UnitPrice</th>\n",
       "      <th>CustomerID</th>\n",
       "      <th>Country</th>\n",
       "      <th>actual_cost_paid</th>\n",
       "    </tr>\n",
       "  </thead>\n",
       "  <tbody>\n",
       "    <tr>\n",
       "      <td>0</td>\n",
       "      <td>536365</td>\n",
       "      <td>85123A</td>\n",
       "      <td>WHITE HANGING HEART T-LIGHT HOLDER</td>\n",
       "      <td>6</td>\n",
       "      <td>12/1/2010 8:26</td>\n",
       "      <td>2.55</td>\n",
       "      <td>17850.0</td>\n",
       "      <td>United Kingdom</td>\n",
       "      <td>15.30</td>\n",
       "    </tr>\n",
       "    <tr>\n",
       "      <td>1</td>\n",
       "      <td>536365</td>\n",
       "      <td>71053</td>\n",
       "      <td>WHITE METAL LANTERN</td>\n",
       "      <td>6</td>\n",
       "      <td>12/1/2010 8:26</td>\n",
       "      <td>3.39</td>\n",
       "      <td>17850.0</td>\n",
       "      <td>United Kingdom</td>\n",
       "      <td>20.34</td>\n",
       "    </tr>\n",
       "    <tr>\n",
       "      <td>2</td>\n",
       "      <td>536365</td>\n",
       "      <td>84406B</td>\n",
       "      <td>CREAM CUPID HEARTS COAT HANGER</td>\n",
       "      <td>8</td>\n",
       "      <td>12/1/2010 8:26</td>\n",
       "      <td>2.75</td>\n",
       "      <td>17850.0</td>\n",
       "      <td>United Kingdom</td>\n",
       "      <td>22.00</td>\n",
       "    </tr>\n",
       "    <tr>\n",
       "      <td>3</td>\n",
       "      <td>536365</td>\n",
       "      <td>84029G</td>\n",
       "      <td>KNITTED UNION FLAG HOT WATER BOTTLE</td>\n",
       "      <td>6</td>\n",
       "      <td>12/1/2010 8:26</td>\n",
       "      <td>3.39</td>\n",
       "      <td>17850.0</td>\n",
       "      <td>United Kingdom</td>\n",
       "      <td>20.34</td>\n",
       "    </tr>\n",
       "    <tr>\n",
       "      <td>4</td>\n",
       "      <td>536365</td>\n",
       "      <td>84029E</td>\n",
       "      <td>RED WOOLLY HOTTIE WHITE HEART.</td>\n",
       "      <td>6</td>\n",
       "      <td>12/1/2010 8:26</td>\n",
       "      <td>3.39</td>\n",
       "      <td>17850.0</td>\n",
       "      <td>United Kingdom</td>\n",
       "      <td>20.34</td>\n",
       "    </tr>\n",
       "    <tr>\n",
       "      <td>...</td>\n",
       "      <td>...</td>\n",
       "      <td>...</td>\n",
       "      <td>...</td>\n",
       "      <td>...</td>\n",
       "      <td>...</td>\n",
       "      <td>...</td>\n",
       "      <td>...</td>\n",
       "      <td>...</td>\n",
       "      <td>...</td>\n",
       "    </tr>\n",
       "    <tr>\n",
       "      <td>541904</td>\n",
       "      <td>581587</td>\n",
       "      <td>22613</td>\n",
       "      <td>PACK OF 20 SPACEBOY NAPKINS</td>\n",
       "      <td>12</td>\n",
       "      <td>12/9/2011 12:50</td>\n",
       "      <td>0.85</td>\n",
       "      <td>12680.0</td>\n",
       "      <td>France</td>\n",
       "      <td>10.20</td>\n",
       "    </tr>\n",
       "    <tr>\n",
       "      <td>541905</td>\n",
       "      <td>581587</td>\n",
       "      <td>22899</td>\n",
       "      <td>CHILDREN'S APRON DOLLY GIRL</td>\n",
       "      <td>6</td>\n",
       "      <td>12/9/2011 12:50</td>\n",
       "      <td>2.10</td>\n",
       "      <td>12680.0</td>\n",
       "      <td>France</td>\n",
       "      <td>12.60</td>\n",
       "    </tr>\n",
       "    <tr>\n",
       "      <td>541906</td>\n",
       "      <td>581587</td>\n",
       "      <td>23254</td>\n",
       "      <td>CHILDRENS CUTLERY DOLLY GIRL</td>\n",
       "      <td>4</td>\n",
       "      <td>12/9/2011 12:50</td>\n",
       "      <td>4.15</td>\n",
       "      <td>12680.0</td>\n",
       "      <td>France</td>\n",
       "      <td>16.60</td>\n",
       "    </tr>\n",
       "    <tr>\n",
       "      <td>541907</td>\n",
       "      <td>581587</td>\n",
       "      <td>23255</td>\n",
       "      <td>CHILDRENS CUTLERY CIRCUS PARADE</td>\n",
       "      <td>4</td>\n",
       "      <td>12/9/2011 12:50</td>\n",
       "      <td>4.15</td>\n",
       "      <td>12680.0</td>\n",
       "      <td>France</td>\n",
       "      <td>16.60</td>\n",
       "    </tr>\n",
       "    <tr>\n",
       "      <td>541908</td>\n",
       "      <td>581587</td>\n",
       "      <td>22138</td>\n",
       "      <td>BAKING SET 9 PIECE RETROSPOT</td>\n",
       "      <td>3</td>\n",
       "      <td>12/9/2011 12:50</td>\n",
       "      <td>4.95</td>\n",
       "      <td>12680.0</td>\n",
       "      <td>France</td>\n",
       "      <td>14.85</td>\n",
       "    </tr>\n",
       "  </tbody>\n",
       "</table>\n",
       "<p>541909 rows × 9 columns</p>\n",
       "</div>"
      ],
      "text/plain": [
       "       InvoiceNo StockCode                          Description  Quantity  \\\n",
       "0         536365    85123A   WHITE HANGING HEART T-LIGHT HOLDER         6   \n",
       "1         536365     71053                  WHITE METAL LANTERN         6   \n",
       "2         536365    84406B       CREAM CUPID HEARTS COAT HANGER         8   \n",
       "3         536365    84029G  KNITTED UNION FLAG HOT WATER BOTTLE         6   \n",
       "4         536365    84029E       RED WOOLLY HOTTIE WHITE HEART.         6   \n",
       "...          ...       ...                                  ...       ...   \n",
       "541904    581587     22613          PACK OF 20 SPACEBOY NAPKINS        12   \n",
       "541905    581587     22899         CHILDREN'S APRON DOLLY GIRL          6   \n",
       "541906    581587     23254        CHILDRENS CUTLERY DOLLY GIRL          4   \n",
       "541907    581587     23255      CHILDRENS CUTLERY CIRCUS PARADE         4   \n",
       "541908    581587     22138        BAKING SET 9 PIECE RETROSPOT          3   \n",
       "\n",
       "            InvoiceDate  UnitPrice  CustomerID         Country  \\\n",
       "0        12/1/2010 8:26       2.55     17850.0  United Kingdom   \n",
       "1        12/1/2010 8:26       3.39     17850.0  United Kingdom   \n",
       "2        12/1/2010 8:26       2.75     17850.0  United Kingdom   \n",
       "3        12/1/2010 8:26       3.39     17850.0  United Kingdom   \n",
       "4        12/1/2010 8:26       3.39     17850.0  United Kingdom   \n",
       "...                 ...        ...         ...             ...   \n",
       "541904  12/9/2011 12:50       0.85     12680.0          France   \n",
       "541905  12/9/2011 12:50       2.10     12680.0          France   \n",
       "541906  12/9/2011 12:50       4.15     12680.0          France   \n",
       "541907  12/9/2011 12:50       4.15     12680.0          France   \n",
       "541908  12/9/2011 12:50       4.95     12680.0          France   \n",
       "\n",
       "        actual_cost_paid  \n",
       "0                  15.30  \n",
       "1                  20.34  \n",
       "2                  22.00  \n",
       "3                  20.34  \n",
       "4                  20.34  \n",
       "...                  ...  \n",
       "541904             10.20  \n",
       "541905             12.60  \n",
       "541906             16.60  \n",
       "541907             16.60  \n",
       "541908             14.85  \n",
       "\n",
       "[541909 rows x 9 columns]"
      ]
     },
     "execution_count": 69,
     "metadata": {},
     "output_type": "execute_result"
    }
   ],
   "source": [
    "df_new"
   ]
  },
  {
   "cell_type": "code",
   "execution_count": 73,
   "metadata": {},
   "outputs": [],
   "source": [
    "# df_uk = df_new.loc[df_new['Country'] == 'United Kingdom']"
   ]
  },
  {
   "cell_type": "code",
   "execution_count": 74,
   "metadata": {},
   "outputs": [],
   "source": [
    "# df_uk"
   ]
  },
  {
   "cell_type": "code",
   "execution_count": 75,
   "metadata": {},
   "outputs": [],
   "source": [
    "# df_uk['Description'].nunique()"
   ]
  },
  {
   "cell_type": "markdown",
   "metadata": {},
   "source": [
    "#### **Scatter plot for Amount spent by consumers in online shopping**"
   ]
  },
  {
   "cell_type": "code",
   "execution_count": 76,
   "metadata": {},
   "outputs": [
    {
     "data": {
      "text/html": [
       "<div>\n",
       "<style scoped>\n",
       "    .dataframe tbody tr th:only-of-type {\n",
       "        vertical-align: middle;\n",
       "    }\n",
       "\n",
       "    .dataframe tbody tr th {\n",
       "        vertical-align: top;\n",
       "    }\n",
       "\n",
       "    .dataframe thead th {\n",
       "        text-align: right;\n",
       "    }\n",
       "</style>\n",
       "<table border=\"1\" class=\"dataframe\">\n",
       "  <thead>\n",
       "    <tr style=\"text-align: right;\">\n",
       "      <th></th>\n",
       "      <th>CustomerID</th>\n",
       "      <th>Quantity</th>\n",
       "      <th>UnitPrice</th>\n",
       "      <th>actual_cost_paid</th>\n",
       "    </tr>\n",
       "  </thead>\n",
       "  <tbody>\n",
       "    <tr>\n",
       "      <td>0</td>\n",
       "      <td>12346.0</td>\n",
       "      <td>0</td>\n",
       "      <td>2.08</td>\n",
       "      <td>0.00</td>\n",
       "    </tr>\n",
       "    <tr>\n",
       "      <td>1</td>\n",
       "      <td>12347.0</td>\n",
       "      <td>2458</td>\n",
       "      <td>481.21</td>\n",
       "      <td>4310.00</td>\n",
       "    </tr>\n",
       "    <tr>\n",
       "      <td>2</td>\n",
       "      <td>12348.0</td>\n",
       "      <td>2341</td>\n",
       "      <td>178.71</td>\n",
       "      <td>1797.24</td>\n",
       "    </tr>\n",
       "    <tr>\n",
       "      <td>3</td>\n",
       "      <td>12349.0</td>\n",
       "      <td>631</td>\n",
       "      <td>605.10</td>\n",
       "      <td>1757.55</td>\n",
       "    </tr>\n",
       "    <tr>\n",
       "      <td>4</td>\n",
       "      <td>12350.0</td>\n",
       "      <td>197</td>\n",
       "      <td>65.30</td>\n",
       "      <td>334.40</td>\n",
       "    </tr>\n",
       "    <tr>\n",
       "      <td>...</td>\n",
       "      <td>...</td>\n",
       "      <td>...</td>\n",
       "      <td>...</td>\n",
       "      <td>...</td>\n",
       "    </tr>\n",
       "    <tr>\n",
       "      <td>4367</td>\n",
       "      <td>18280.0</td>\n",
       "      <td>45</td>\n",
       "      <td>47.65</td>\n",
       "      <td>180.60</td>\n",
       "    </tr>\n",
       "    <tr>\n",
       "      <td>4368</td>\n",
       "      <td>18281.0</td>\n",
       "      <td>54</td>\n",
       "      <td>39.36</td>\n",
       "      <td>80.82</td>\n",
       "    </tr>\n",
       "    <tr>\n",
       "      <td>4369</td>\n",
       "      <td>18282.0</td>\n",
       "      <td>98</td>\n",
       "      <td>62.68</td>\n",
       "      <td>176.60</td>\n",
       "    </tr>\n",
       "    <tr>\n",
       "      <td>4370</td>\n",
       "      <td>18283.0</td>\n",
       "      <td>1397</td>\n",
       "      <td>1220.93</td>\n",
       "      <td>2094.88</td>\n",
       "    </tr>\n",
       "    <tr>\n",
       "      <td>4371</td>\n",
       "      <td>18287.0</td>\n",
       "      <td>1586</td>\n",
       "      <td>104.55</td>\n",
       "      <td>1837.28</td>\n",
       "    </tr>\n",
       "  </tbody>\n",
       "</table>\n",
       "<p>4372 rows × 4 columns</p>\n",
       "</div>"
      ],
      "text/plain": [
       "      CustomerID  Quantity  UnitPrice  actual_cost_paid\n",
       "0        12346.0         0       2.08              0.00\n",
       "1        12347.0      2458     481.21           4310.00\n",
       "2        12348.0      2341     178.71           1797.24\n",
       "3        12349.0       631     605.10           1757.55\n",
       "4        12350.0       197      65.30            334.40\n",
       "...          ...       ...        ...               ...\n",
       "4367     18280.0        45      47.65            180.60\n",
       "4368     18281.0        54      39.36             80.82\n",
       "4369     18282.0        98      62.68            176.60\n",
       "4370     18283.0      1397    1220.93           2094.88\n",
       "4371     18287.0      1586     104.55           1837.28\n",
       "\n",
       "[4372 rows x 4 columns]"
      ]
     },
     "execution_count": 76,
     "metadata": {},
     "output_type": "execute_result"
    }
   ],
   "source": [
    "customer = df_new.groupby('CustomerID').sum().reset_index()\n",
    "customer"
   ]
  },
  {
   "cell_type": "code",
   "execution_count": 78,
   "metadata": {},
   "outputs": [
    {
     "data": {
      "image/png": "[encoded data removed]",
      "text/plain": [
       "<Figure size 1440x1800 with 1 Axes>"
      ]
     },
     "metadata": {
      "needs_background": "light"
     },
     "output_type": "display_data"
    }
   ],
   "source": [
    "fig = plt.figure(figsize = (20,25))\n",
    "x1 = customer['CustomerID']\n",
    "y1 = customer['actual_cost_paid']\n",
    "plt.xlabel(\"Customers\")\n",
    "plt.ylabel(\"Amount Spent\")\n",
    "plt.title(\"Amount Spent by customers on online shopping\")\n",
    "scatter_plot = plt.scatter(x1, y1)\n",
    "plt.show()"
   ]
  },
  {
   "cell_type": "markdown",
   "metadata": {},
   "source": [
    "#### **Bar plot to show average quantity of purchase made in different countries**"
   ]
  },
  {
   "cell_type": "code",
   "execution_count": 80,
   "metadata": {},
   "outputs": [
    {
     "data": {
      "text/html": [
       "<div>\n",
       "<style scoped>\n",
       "    .dataframe tbody tr th:only-of-type {\n",
       "        vertical-align: middle;\n",
       "    }\n",
       "\n",
       "    .dataframe tbody tr th {\n",
       "        vertical-align: top;\n",
       "    }\n",
       "\n",
       "    .dataframe thead th {\n",
       "        text-align: right;\n",
       "    }\n",
       "</style>\n",
       "<table border=\"1\" class=\"dataframe\">\n",
       "  <thead>\n",
       "    <tr style=\"text-align: right;\">\n",
       "      <th></th>\n",
       "      <th>Country</th>\n",
       "      <th>Quantity</th>\n",
       "      <th>UnitPrice</th>\n",
       "      <th>CustomerID</th>\n",
       "      <th>actual_cost_paid</th>\n",
       "    </tr>\n",
       "  </thead>\n",
       "  <tbody>\n",
       "    <tr>\n",
       "      <td>0</td>\n",
       "      <td>Australia</td>\n",
       "      <td>66.444003</td>\n",
       "      <td>3.220612</td>\n",
       "      <td>12464.656076</td>\n",
       "      <td>108.877895</td>\n",
       "    </tr>\n",
       "    <tr>\n",
       "      <td>1</td>\n",
       "      <td>Austria</td>\n",
       "      <td>12.037406</td>\n",
       "      <td>4.243192</td>\n",
       "      <td>12521.451372</td>\n",
       "      <td>25.322494</td>\n",
       "    </tr>\n",
       "    <tr>\n",
       "      <td>2</td>\n",
       "      <td>Bahrain</td>\n",
       "      <td>13.684211</td>\n",
       "      <td>4.556316</td>\n",
       "      <td>12354.529412</td>\n",
       "      <td>28.863158</td>\n",
       "    </tr>\n",
       "    <tr>\n",
       "      <td>3</td>\n",
       "      <td>Belgium</td>\n",
       "      <td>11.189947</td>\n",
       "      <td>3.644335</td>\n",
       "      <td>12430.298695</td>\n",
       "      <td>19.773301</td>\n",
       "    </tr>\n",
       "    <tr>\n",
       "      <td>4</td>\n",
       "      <td>Brazil</td>\n",
       "      <td>11.125000</td>\n",
       "      <td>4.456250</td>\n",
       "      <td>12769.000000</td>\n",
       "      <td>35.737500</td>\n",
       "    </tr>\n",
       "    <tr>\n",
       "      <td>5</td>\n",
       "      <td>Canada</td>\n",
       "      <td>18.298013</td>\n",
       "      <td>6.030331</td>\n",
       "      <td>17321.079470</td>\n",
       "      <td>24.280662</td>\n",
       "    </tr>\n",
       "    <tr>\n",
       "      <td>6</td>\n",
       "      <td>Channel Islands</td>\n",
       "      <td>12.505277</td>\n",
       "      <td>4.932124</td>\n",
       "      <td>14888.151715</td>\n",
       "      <td>26.499063</td>\n",
       "    </tr>\n",
       "    <tr>\n",
       "      <td>7</td>\n",
       "      <td>Cyprus</td>\n",
       "      <td>10.155949</td>\n",
       "      <td>6.302363</td>\n",
       "      <td>12404.951768</td>\n",
       "      <td>20.813971</td>\n",
       "    </tr>\n",
       "    <tr>\n",
       "      <td>8</td>\n",
       "      <td>Czech Republic</td>\n",
       "      <td>19.733333</td>\n",
       "      <td>2.938333</td>\n",
       "      <td>12781.000000</td>\n",
       "      <td>23.590667</td>\n",
       "    </tr>\n",
       "    <tr>\n",
       "      <td>9</td>\n",
       "      <td>Denmark</td>\n",
       "      <td>21.048843</td>\n",
       "      <td>3.256941</td>\n",
       "      <td>12536.591260</td>\n",
       "      <td>48.247147</td>\n",
       "    </tr>\n",
       "    <tr>\n",
       "      <td>10</td>\n",
       "      <td>EIRE</td>\n",
       "      <td>17.403245</td>\n",
       "      <td>5.911077</td>\n",
       "      <td>14748.396126</td>\n",
       "      <td>32.122599</td>\n",
       "    </tr>\n",
       "    <tr>\n",
       "      <td>11</td>\n",
       "      <td>European Community</td>\n",
       "      <td>8.147541</td>\n",
       "      <td>4.820492</td>\n",
       "      <td>15108.000000</td>\n",
       "      <td>21.176230</td>\n",
       "    </tr>\n",
       "    <tr>\n",
       "      <td>12</td>\n",
       "      <td>Finland</td>\n",
       "      <td>15.346763</td>\n",
       "      <td>5.448705</td>\n",
       "      <td>12517.012950</td>\n",
       "      <td>32.124806</td>\n",
       "    </tr>\n",
       "    <tr>\n",
       "      <td>13</td>\n",
       "      <td>France</td>\n",
       "      <td>12.911067</td>\n",
       "      <td>5.028864</td>\n",
       "      <td>12677.995996</td>\n",
       "      <td>23.069288</td>\n",
       "    </tr>\n",
       "    <tr>\n",
       "      <td>14</td>\n",
       "      <td>Germany</td>\n",
       "      <td>12.369458</td>\n",
       "      <td>3.966930</td>\n",
       "      <td>12646.139336</td>\n",
       "      <td>23.348943</td>\n",
       "    </tr>\n",
       "    <tr>\n",
       "      <td>15</td>\n",
       "      <td>Greece</td>\n",
       "      <td>10.657534</td>\n",
       "      <td>4.885548</td>\n",
       "      <td>13757.424658</td>\n",
       "      <td>32.263836</td>\n",
       "    </tr>\n",
       "    <tr>\n",
       "      <td>16</td>\n",
       "      <td>Hong Kong</td>\n",
       "      <td>16.559028</td>\n",
       "      <td>42.505208</td>\n",
       "      <td>NaN</td>\n",
       "      <td>35.128611</td>\n",
       "    </tr>\n",
       "    <tr>\n",
       "      <td>17</td>\n",
       "      <td>Iceland</td>\n",
       "      <td>13.505495</td>\n",
       "      <td>2.644011</td>\n",
       "      <td>12347.000000</td>\n",
       "      <td>23.681319</td>\n",
       "    </tr>\n",
       "    <tr>\n",
       "      <td>18</td>\n",
       "      <td>Israel</td>\n",
       "      <td>14.656566</td>\n",
       "      <td>3.633131</td>\n",
       "      <td>12657.868000</td>\n",
       "      <td>26.625657</td>\n",
       "    </tr>\n",
       "    <tr>\n",
       "      <td>19</td>\n",
       "      <td>Italy</td>\n",
       "      <td>9.961395</td>\n",
       "      <td>4.831121</td>\n",
       "      <td>12648.397260</td>\n",
       "      <td>21.034259</td>\n",
       "    </tr>\n",
       "    <tr>\n",
       "      <td>20</td>\n",
       "      <td>Japan</td>\n",
       "      <td>70.441341</td>\n",
       "      <td>2.276145</td>\n",
       "      <td>12757.798883</td>\n",
       "      <td>98.716816</td>\n",
       "    </tr>\n",
       "    <tr>\n",
       "      <td>21</td>\n",
       "      <td>Lebanon</td>\n",
       "      <td>8.577778</td>\n",
       "      <td>5.387556</td>\n",
       "      <td>12764.000000</td>\n",
       "      <td>37.641778</td>\n",
       "    </tr>\n",
       "    <tr>\n",
       "      <td>22</td>\n",
       "      <td>Lithuania</td>\n",
       "      <td>18.628571</td>\n",
       "      <td>2.841143</td>\n",
       "      <td>15332.000000</td>\n",
       "      <td>47.458857</td>\n",
       "    </tr>\n",
       "    <tr>\n",
       "      <td>23</td>\n",
       "      <td>Malta</td>\n",
       "      <td>7.433071</td>\n",
       "      <td>5.244173</td>\n",
       "      <td>16996.031496</td>\n",
       "      <td>19.728110</td>\n",
       "    </tr>\n",
       "    <tr>\n",
       "      <td>24</td>\n",
       "      <td>Netherlands</td>\n",
       "      <td>84.406580</td>\n",
       "      <td>2.738317</td>\n",
       "      <td>14420.302826</td>\n",
       "      <td>120.059696</td>\n",
       "    </tr>\n",
       "    <tr>\n",
       "      <td>25</td>\n",
       "      <td>Norway</td>\n",
       "      <td>17.722836</td>\n",
       "      <td>6.012026</td>\n",
       "      <td>12437.984346</td>\n",
       "      <td>32.378877</td>\n",
       "    </tr>\n",
       "    <tr>\n",
       "      <td>26</td>\n",
       "      <td>Poland</td>\n",
       "      <td>10.712610</td>\n",
       "      <td>4.170880</td>\n",
       "      <td>12733.055718</td>\n",
       "      <td>21.152903</td>\n",
       "    </tr>\n",
       "    <tr>\n",
       "      <td>27</td>\n",
       "      <td>Portugal</td>\n",
       "      <td>10.651745</td>\n",
       "      <td>8.582976</td>\n",
       "      <td>12746.486486</td>\n",
       "      <td>19.333127</td>\n",
       "    </tr>\n",
       "    <tr>\n",
       "      <td>28</td>\n",
       "      <td>RSA</td>\n",
       "      <td>6.068966</td>\n",
       "      <td>4.277586</td>\n",
       "      <td>12446.000000</td>\n",
       "      <td>17.281207</td>\n",
       "    </tr>\n",
       "    <tr>\n",
       "      <td>29</td>\n",
       "      <td>Saudi Arabia</td>\n",
       "      <td>7.500000</td>\n",
       "      <td>2.411000</td>\n",
       "      <td>12565.000000</td>\n",
       "      <td>13.117000</td>\n",
       "    </tr>\n",
       "    <tr>\n",
       "      <td>30</td>\n",
       "      <td>Singapore</td>\n",
       "      <td>22.855895</td>\n",
       "      <td>109.645808</td>\n",
       "      <td>12744.000000</td>\n",
       "      <td>39.827031</td>\n",
       "    </tr>\n",
       "    <tr>\n",
       "      <td>31</td>\n",
       "      <td>Spain</td>\n",
       "      <td>10.589814</td>\n",
       "      <td>4.987544</td>\n",
       "      <td>12905.365574</td>\n",
       "      <td>21.624390</td>\n",
       "    </tr>\n",
       "    <tr>\n",
       "      <td>32</td>\n",
       "      <td>Sweden</td>\n",
       "      <td>77.136364</td>\n",
       "      <td>3.910887</td>\n",
       "      <td>14697.149351</td>\n",
       "      <td>79.211926</td>\n",
       "    </tr>\n",
       "    <tr>\n",
       "      <td>33</td>\n",
       "      <td>Switzerland</td>\n",
       "      <td>15.147353</td>\n",
       "      <td>3.403442</td>\n",
       "      <td>12666.977091</td>\n",
       "      <td>28.164510</td>\n",
       "    </tr>\n",
       "    <tr>\n",
       "      <td>34</td>\n",
       "      <td>USA</td>\n",
       "      <td>3.553265</td>\n",
       "      <td>2.216426</td>\n",
       "      <td>12618.852234</td>\n",
       "      <td>5.948179</td>\n",
       "    </tr>\n",
       "    <tr>\n",
       "      <td>35</td>\n",
       "      <td>United Arab Emirates</td>\n",
       "      <td>14.441176</td>\n",
       "      <td>3.380735</td>\n",
       "      <td>14984.588235</td>\n",
       "      <td>27.974706</td>\n",
       "    </tr>\n",
       "    <tr>\n",
       "      <td>36</td>\n",
       "      <td>United Kingdom</td>\n",
       "      <td>8.605486</td>\n",
       "      <td>4.532422</td>\n",
       "      <td>15547.871368</td>\n",
       "      <td>16.525065</td>\n",
       "    </tr>\n",
       "    <tr>\n",
       "      <td>37</td>\n",
       "      <td>Unspecified</td>\n",
       "      <td>7.399103</td>\n",
       "      <td>2.699574</td>\n",
       "      <td>13721.500000</td>\n",
       "      <td>10.649753</td>\n",
       "    </tr>\n",
       "  </tbody>\n",
       "</table>\n",
       "</div>"
      ],
      "text/plain": [
       "                 Country   Quantity   UnitPrice    CustomerID  \\\n",
       "0              Australia  66.444003    3.220612  12464.656076   \n",
       "1                Austria  12.037406    4.243192  12521.451372   \n",
       "2                Bahrain  13.684211    4.556316  12354.529412   \n",
       "3                Belgium  11.189947    3.644335  12430.298695   \n",
       "4                 Brazil  11.125000    4.456250  12769.000000   \n",
       "5                 Canada  18.298013    6.030331  17321.079470   \n",
       "6        Channel Islands  12.505277    4.932124  14888.151715   \n",
       "7                 Cyprus  10.155949    6.302363  12404.951768   \n",
       "8         Czech Republic  19.733333    2.938333  12781.000000   \n",
       "9                Denmark  21.048843    3.256941  12536.591260   \n",
       "10                  EIRE  17.403245    5.911077  14748.396126   \n",
       "11    European Community   8.147541    4.820492  15108.000000   \n",
       "12               Finland  15.346763    5.448705  12517.012950   \n",
       "13                France  12.911067    5.028864  12677.995996   \n",
       "14               Germany  12.369458    3.966930  12646.139336   \n",
       "15                Greece  10.657534    4.885548  13757.424658   \n",
       "16             Hong Kong  16.559028   42.505208           NaN   \n",
       "17               Iceland  13.505495    2.644011  12347.000000   \n",
       "18                Israel  14.656566    3.633131  12657.868000   \n",
       "19                 Italy   9.961395    4.831121  12648.397260   \n",
       "20                 Japan  70.441341    2.276145  12757.798883   \n",
       "21               Lebanon   8.577778    5.387556  12764.000000   \n",
       "22             Lithuania  18.628571    2.841143  15332.000000   \n",
       "23                 Malta   7.433071    5.244173  16996.031496   \n",
       "24           Netherlands  84.406580    2.738317  14420.302826   \n",
       "25                Norway  17.722836    6.012026  12437.984346   \n",
       "26                Poland  10.712610    4.170880  12733.055718   \n",
       "27              Portugal  10.651745    8.582976  12746.486486   \n",
       "28                   RSA   6.068966    4.277586  12446.000000   \n",
       "29          Saudi Arabia   7.500000    2.411000  12565.000000   \n",
       "30             Singapore  22.855895  109.645808  12744.000000   \n",
       "31                 Spain  10.589814    4.987544  12905.365574   \n",
       "32                Sweden  77.136364    3.910887  14697.149351   \n",
       "33           Switzerland  15.147353    3.403442  12666.977091   \n",
       "34                   USA   3.553265    2.216426  12618.852234   \n",
       "35  United Arab Emirates  14.441176    3.380735  14984.588235   \n",
       "36        United Kingdom   8.605486    4.532422  15547.871368   \n",
       "37           Unspecified   7.399103    2.699574  13721.500000   \n",
       "\n",
       "    actual_cost_paid  \n",
       "0         108.877895  \n",
       "1          25.322494  \n",
       "2          28.863158  \n",
       "3          19.773301  \n",
       "4          35.737500  \n",
       "5          24.280662  \n",
       "6          26.499063  \n",
       "7          20.813971  \n",
       "8          23.590667  \n",
       "9          48.247147  \n",
       "10         32.122599  \n",
       "11         21.176230  \n",
       "12         32.124806  \n",
       "13         23.069288  \n",
       "14         23.348943  \n",
       "15         32.263836  \n",
       "16         35.128611  \n",
       "17         23.681319  \n",
       "18         26.625657  \n",
       "19         21.034259  \n",
       "20         98.716816  \n",
       "21         37.641778  \n",
       "22         47.458857  \n",
       "23         19.728110  \n",
       "24        120.059696  \n",
       "25         32.378877  \n",
       "26         21.152903  \n",
       "27         19.333127  \n",
       "28         17.281207  \n",
       "29         13.117000  \n",
       "30         39.827031  \n",
       "31         21.624390  \n",
       "32         79.211926  \n",
       "33         28.164510  \n",
       "34          5.948179  \n",
       "35         27.974706  \n",
       "36         16.525065  \n",
       "37         10.649753  "
      ]
     },
     "execution_count": 80,
     "metadata": {},
     "output_type": "execute_result"
    }
   ],
   "source": [
    "quantity = df_new.groupby('Country').mean().reset_index()\n",
    "quantity"
   ]
  },
  {
   "cell_type": "code",
   "execution_count": 85,
   "metadata": {},
   "outputs": [
    {
     "data": {
      "image/png": "[encoded data removed]",
      "text/plain": [
       "<Figure size 2160x1080 with 1 Axes>"
      ]
     },
     "metadata": {
      "needs_background": "light"
     },
     "output_type": "display_data"
    }
   ],
   "source": [
    "fig = plt.figure(figsize = (30,15))\n",
    "x1 = quantity['Country']\n",
    "y1 = quantity['Quantity']\n",
    "plt.xlabel(\"Countries\")\n",
    "plt.ylabel(\"Average Quantity\")\n",
    "plt.title(\"Average quantity of online products in different countries\")\n",
    "plt.xticks(rotation=45)\n",
    "scatter_plot = plt.bar(x1, y1)\n",
    "plt.show()"
   ]
  },
  {
   "cell_type": "markdown",
   "metadata": {},
   "source": [
    "Unlike the traditional markets for buying consumer goods, it can be seen that people around the globe with good E-Commerce alternative are following similar trends as we used to see in the traditional markets. The alternative dataset of E-Commerce purchases form different countries reveals some great similarities with the Brazil's data. It can be seen that most of the customers spent only a limited amount of money on E-Commerce and there are very few customers, who tend to buy super expensive products form the E-Commerce market. This is the same pattern as of the bottom left plot of the dashboard. Consumers tend to buy similar products and from some specific product categories in online market. The second plot is a great interpretation of different countries' consumers buying pattern. It shows the average number of products consumer buys every time consumer shops online. There are some start revelations and it shows the importance of demographics and income of consumers. The field of Consumer profiling is a hot topic in the world of Data Analytic and E-Commerce companies are gaining great markets by understanding the needs of people based on regional demographics and per capita income."
   ]
  },
  {
   "cell_type": "markdown",
   "metadata": {},
   "source": [
    "### **References**"
   ]
  },
  {
   "cell_type": "raw",
   "metadata": {},
   "source": [
    "Primary Data - Brazil E-Commerce: https://www.kaggle.com/olistbr/brazilian-ecommerce\n",
    "Secondary Data - Europe,America E-Commerce: https://www.kaggle.com/carrie1/ecommerce-data\n",
    "bqplot: https://bqplot.readthedocs.io/en/latest/"
   ]
  },
  {
   "cell_type": "code",
   "execution_count": null,
   "metadata": {},
   "outputs": [],
   "source": []
  }
 ],
 "metadata": {
  "kernelspec": {
   "display_name": "Python 3",
   "language": "python",
   "name": "python3"
  },
  "language_info": {
   "codemirror_mode": {
    "name": "ipython",
    "version": 3
   },
   "file_extension": ".py",
   "mimetype": "text/x-python",
   "name": "python",
   "nbconvert_exporter": "python",
   "pygments_lexer": "ipython3",
   "version": "3.7.4"
  }
 },
 "nbformat": 4,
 "nbformat_minor": 2
}
